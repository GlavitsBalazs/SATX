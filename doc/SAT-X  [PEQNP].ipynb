{
  "nbformat": 4,
  "nbformat_minor": 0,
  "metadata": {
    "colab": {
      "name": "PEQNP.ipynb",
      "provenance": [],
      "collapsed_sections": [],
      "toc_visible": true
    },
    "kernelspec": {
      "display_name": "Python 3",
      "language": "python",
      "name": "python3"
    },
    "language_info": {
      "codemirror_mode": {
        "name": "ipython",
        "version": 3
      },
      "file_extension": ".py",
      "mimetype": "text/x-python",
      "name": "python",
      "nbconvert_exporter": "python",
      "pygments_lexer": "ipython3",
      "version": "3.9.6"
    }
  },
  "cells": [
    {
      "cell_type": "markdown",
      "metadata": {
        "id": "71mQEXWm964S"
      },
      "source": [
        "<a href=\"https://www.peqnp.com\"><img border=\"0\" alt=\"PEQNP\" src=\"https://raw.githubusercontent.com/maxtuno/SATX/main/SAT-X.jpg\" width=\"640\" height=\"400\">\n",
        "\n",
        "# SAT-X \n",
        "## [![Downloads](https://pepy.tech/badge/satx)](https://pepy.tech/project/satx) \n",
        "### The constraint modeling language for SAT solvers\n",
        "\n",
        "SAT-X is a language for constrained optimization and decision problems over positive integers, that work with any SAT Competition standard SAT solver. Is based on Python, and is ase to learn and easy to use with all technologies associated to this language.\n",
        "\n",
        "# Some excelent SAT Solvers\n",
        "\n",
        "1- https://github.com/maxtuno/SLIME (standalone and cloud [MPI] - Oscar Riveros)\n",
        "\n",
        "2- https://github.com/arminbiere/kissat (The Kissat SAT Solver - Armin Biere)\n",
        "\n",
        "3- https://github.com/maxtuno/MiniSat (MiniSat 2.2.0 with DRUP proof, CMake and StarExec Ready. -  Niklas Een, Niklas Sorensson)\n",
        "\n",
        "4- https://github.com/maxtuno/blue (A Powerful SAT Solver for Java - Oscar Riveros)\n",
        "\n",
        "5- Any SAT Solver with the SAT Competition standars. (http://www.satcompetition.org)"
      ]
    },
    {
      "cell_type": "markdown",
      "metadata": {
        "id": "JzM69hBn964T"
      },
      "source": [
        "# INSTALLATION\n",
        "```python\n",
        "pip install SATX\n",
        "```"
      ]
    },
    {
      "cell_type": "code",
      "metadata": {
        "colab": {
          "base_uri": "https://localhost:8080/"
        },
        "id": "GMnjfDhU_EEc",
        "tags": [],
        "outputId": "b0e32304-9ed8-4a6f-e484-0a4353f722ed"
      },
      "source": [
        "!pip install SATX --upgrade --force"
      ],
      "execution_count": 1,
      "outputs": [
        {
          "output_type": "stream",
          "name": "stdout",
          "text": [
            "Collecting SATX\n",
            "  Downloading SATX-0.3.3.tar.gz (15 kB)\n",
            "Building wheels for collected packages: SATX\n",
            "  Building wheel for SATX (setup.py) ... \u001b[?25l\u001b[?25hdone\n",
            "  Created wheel for SATX: filename=SATX-0.3.3-py3-none-any.whl size=19260 sha256=1f0141ab883116da9bfabb4cbe00f41ac4364cb52a0df0321fce6682bf20f62c\n",
            "  Stored in directory: /root/.cache/pip/wheels/59/a2/62/5dfa22aa1932f77e9368ff45b26908343ad7576cab73d023b4\n",
            "Successfully built SATX\n",
            "Installing collected packages: SATX\n",
            "Successfully installed SATX-0.3.3\n"
          ]
        }
      ]
    },
    {
      "cell_type": "markdown",
      "metadata": {
        "id": "n71dPAXZecdj"
      },
      "source": [
        "# INTRODUCION\n",
        "On SAT-X all elements are integers, the relations are at bit level or arithmetic level. All integers live on $\\mathbb{N}_{2 ^ {bits} - 1}$ and always positives, i.e. for two integer $(x, y)$ the operation, $(x - y)$ take all possibilities such that $x - y >= 0$.\n",
        "\n",
        "# SUPPORTED OPERATIONS\n",
        "$+$, $-$, $*$, $/$, $**$, $abs$, $powmod$, $\\%$, $\\&$, $|$, $^$, $==$, $=$, $<$, $<=$, $>$, $>=$"
      ]
    },
    {
      "cell_type": "markdown",
      "metadata": {
        "id": "Kd2ebfRUkjre"
      },
      "source": [
        "# FIND ALL SOLUTIONS TO $2^n-7=x^2$\n",
        "\n",
        "Ref: http://www.artofproblemsolving.com/Forum/viewtopic.php?t=66245"
      ]
    },
    {
      "cell_type": "code",
      "metadata": {
        "colab": {
          "base_uri": "https://localhost:8080/"
        },
        "id": "vY7upZWNkoS_",
        "outputId": "9f8f8a9d-d151-4507-82cb-60796de01e22"
      },
      "source": [
        "import satx\n",
        "\n",
        "satx.engine(32, cnf_path='tmp.cnf')\n",
        "\n",
        "_2 = satx.constant(2)\n",
        "n = satx.integer()\n",
        "x = satx.integer()\n",
        "\n",
        "assert _2 ** n - 7 == x ** 2\n",
        "\n",
        "while satx.satisfy('slime'):\n",
        "    print(n, x)"
      ],
      "execution_count": null,
      "outputs": [
        {
          "name": "stdout",
          "output_type": "stream",
          "text": [
            "5 5\n",
            "4 3\n",
            "7 11\n",
            "15 181\n",
            "3 1\n"
          ]
        }
      ]
    },
    {
      "cell_type": "markdown",
      "metadata": {
        "id": "RbN-rZnek7Dl"
      },
      "source": [
        "SOLVE IN POSITIVE INTEGERS THE FOLLOWING EQUATION: $n^3 − 5n + 10 = 2^k$.\n",
        "\n",
        "Ref: http://www.artofproblemsolving.com/Forum/viewtopic.php?t=103239\n",
        "\n",
        "tip: avoid the negative signs"
      ]
    },
    {
      "cell_type": "code",
      "metadata": {
        "colab": {
          "base_uri": "https://localhost:8080/"
        },
        "id": "yOQyM4QslOAz",
        "outputId": "b4f30395-8651-46fc-ff82-152cf1fd0155"
      },
      "source": [
        "import satx\n",
        "\n",
        "satx.engine(16, cnf_path='tmp.cnf')\n",
        "\n",
        "_2 = satx.constant(2)\n",
        "\n",
        "n = satx.integer()\n",
        "k = satx.integer()\n",
        "\n",
        "assert n ** 3 + 10 == _2 ** k + 5 * n\n",
        "\n",
        "while satx.satisfy('slime'):\n",
        "    print(n, k)"
      ],
      "execution_count": null,
      "outputs": [
        {
          "name": "stdout",
          "output_type": "stream",
          "text": [
            "2 3\n"
          ]
        }
      ]
    },
    {
      "cell_type": "markdown",
      "metadata": {
        "id": "AcGfS1eRlT6U"
      },
      "source": [
        "# FIND ALL POSITIVE INTEGER SOLUTIONS TO $a^{2}=b^{3}+1$\n",
        "\n",
        "Ref: http://www.artofproblemsolving.com/Forum/viewtopic.php?t=103239"
      ]
    },
    {
      "cell_type": "code",
      "metadata": {
        "colab": {
          "base_uri": "https://localhost:8080/"
        },
        "id": "V8LEjkg3lYP7",
        "outputId": "6f299539-084c-43c1-9fee-8233b24e147a"
      },
      "source": [
        "import satx\n",
        "\n",
        "satx.engine(16, cnf_path='tmp.cnf')\n",
        "\n",
        "a = satx.integer()\n",
        "b = satx.integer()\n",
        "\n",
        "assert a ** 2 == b ** 3 + 1\n",
        "\n",
        "while satx.satisfy('slime'):\n",
        "    print(a, b)"
      ],
      "execution_count": null,
      "outputs": [
        {
          "name": "stdout",
          "output_type": "stream",
          "text": [
            "1 0\n",
            "3 2\n"
          ]
        }
      ]
    },
    {
      "cell_type": "markdown",
      "metadata": {
        "id": "3EWbG3SMlbOs"
      },
      "source": [
        "# FIND ALL POSITIVE INTEGER SOLUTIONS TO  $x,y$: $3^x - 1 == y2^x + 1$\n",
        "\n",
        "ref: http://www.artofproblemsolving.com/Forum/viewtopic.php?t=31947"
      ]
    },
    {
      "cell_type": "code",
      "metadata": {
        "colab": {
          "base_uri": "https://localhost:8080/"
        },
        "id": "Ci3EZWlYlhV5",
        "outputId": "4b0fa28f-8938-4309-efa1-fd64ec0e2094"
      },
      "source": [
        "import satx\n",
        "\n",
        "satx.engine(32, cnf_path='tmp.cnf')\n",
        "\n",
        "_2 = satx.constant(2)\n",
        "_3 = satx.constant(3)\n",
        "\n",
        "x = satx.integer()\n",
        "y = satx.integer()\n",
        "\n",
        "assert _3 ** x == y * _2 ** x + 1\n",
        "\n",
        "while satx.satisfy('slime'):\n",
        "    print(x, y)"
      ],
      "execution_count": null,
      "outputs": [
        {
          "name": "stdout",
          "output_type": "stream",
          "text": [
            "0 0\n",
            "2 2\n",
            "4 5\n",
            "1 1\n"
          ]
        }
      ]
    },
    {
      "cell_type": "markdown",
      "metadata": {
        "id": "aiWphw2k964V"
      },
      "source": [
        "# INTEGER FACTORIZATION\n",
        "In number theory, integer factorization is the decomposition of a composite number into a product of smaller integers. If these factors are further restricted to prime numbers, the process is called prime factorization."
      ]
    },
    {
      "cell_type": "code",
      "metadata": {
        "colab": {
          "base_uri": "https://localhost:8080/"
        },
        "id": "7S96pDBk964W",
        "tags": [],
        "outputId": "93c578c4-6343-4574-da32-cc3603e20567"
      },
      "source": [
        "import satx\n",
        "\n",
        "rsa = 3007\n",
        "\n",
        "satx.engine(rsa.bit_length(), cnf_path='tmp.cnf')\n",
        "\n",
        "p = satx.integer()\n",
        "q = satx.integer()\n",
        "\n",
        "assert p * q == rsa\n",
        "\n",
        "while satx.satisfy('slime'):\n",
        "    print(p, q)"
      ],
      "execution_count": null,
      "outputs": [
        {
          "name": "stdout",
          "output_type": "stream",
          "text": [
            "3007 1\n",
            "97 31\n",
            "1 3007\n",
            "31 97\n"
          ]
        }
      ]
    },
    {
      "cell_type": "markdown",
      "metadata": {
        "id": "kpXoFzLi2PVw"
      },
      "source": [
        "# PALINDROMIC NUMBERS (Bits Level)"
      ]
    },
    {
      "cell_type": "code",
      "metadata": {
        "colab": {
          "base_uri": "https://localhost:8080/"
        },
        "id": "6EU_vqh-1hIG",
        "outputId": "f82de897-c78e-4f01-d0a6-6dd5865e4e03"
      },
      "source": [
        "import numpy as np\n",
        "import satx\n",
        "\n",
        "satx.engine(10, cnf_path='tmp.cnf')\n",
        "\n",
        "x = satx.integer()\n",
        "\n",
        "# without \"copy\" for inplace reverse of bits\n",
        "assert x == x.reverse(copy=True)\n",
        "\n",
        "while satx.satisfy('slime'):\n",
        "    print(x, np.binary_repr(x.value, satx.bits()))"
      ],
      "execution_count": null,
      "outputs": [
        {
          "name": "stdout",
          "output_type": "stream",
          "text": [
            "0 0000000000\n",
            "132 0010000100\n",
            "72 0001001000\n",
            "258 0100000010\n",
            "513 1000000001\n",
            "48 0000110000\n",
            "204 0011001100\n",
            "771 1100000011\n",
            "120 0001111000\n",
            "390 0110000110\n",
            "561 1000110001\n",
            "180 0010110100\n",
            "330 0101001010\n",
            "645 1010000101\n",
            "585 1001001001\n",
            "306 0100110010\n",
            "462 0111001110\n",
            "693 1010110101\n",
            "633 1001111001\n",
            "819 1100110011\n",
            "252 0011111100\n",
            "843 1101001011\n",
            "438 0110110110\n",
            "717 1011001101\n",
            "378 0101111010\n",
            "903 1110000111\n",
            "975 1111001111\n",
            "510 0111111110\n",
            "765 1011111101\n",
            "891 1101111011\n",
            "951 1110110111\n",
            "1023 1111111111\n"
          ]
        }
      ]
    },
    {
      "cell_type": "markdown",
      "metadata": {
        "id": "9sIHVlpNt1qX"
      },
      "source": [
        "# XOR Problem\n",
        "\n",
        "The XOr, or “exclusive or”, problem is a classic problem in ANN research. It is the problem of using a neural network to predict the outputs of XOr logic gates given two binary inputs. An XOr function should return a true value if the two inputs are not equal and a false value if they are equal."
      ]
    },
    {
      "cell_type": "code",
      "metadata": {
        "colab": {
          "base_uri": "https://localhost:8080/"
        },
        "id": "AeFgWSlAtu95",
        "outputId": "54b06e4e-7e5d-40ab-dec8-1937b6a08f8c"
      },
      "source": [
        "import satx\n",
        "\n",
        "x = [[0, 0], [0, 1], [1, 0], [1, 1]]\n",
        "y = [0, 1, 1, 0]\n",
        "\n",
        "n, m = len(x), len(x[0])\n",
        "\n",
        "satx.engine(10, cnf_path='tmp.cnf')\n",
        "\n",
        "w = satx.matrix(dimensions=(n, m))\n",
        "b = satx.vector(size=n)\n",
        "\n",
        "for i in range(n):\n",
        "    assert y[i] == satx.dot(x[i], w[i]) + b[i]\n",
        "\n",
        "if satx.satisfy('slime'):\n",
        "    for i in range(n):\n",
        "        print(x[i], satx.dot(x[i], w[i]) + b[i])\n",
        "else:\n",
        "    print('Infeasible ...')"
      ],
      "execution_count": null,
      "outputs": [
        {
          "name": "stdout",
          "output_type": "stream",
          "text": [
            "[0, 0] 0\n",
            "[0, 1] 1\n",
            "[1, 0] 1\n",
            "[1, 1] 0\n"
          ]
        }
      ]
    },
    {
      "cell_type": "markdown",
      "metadata": {
        "id": "-BeLNuT8COAO"
      },
      "source": [
        "# ABSOLUTE VALUES"
      ]
    },
    {
      "cell_type": "code",
      "metadata": {
        "colab": {
          "base_uri": "https://localhost:8080/"
        },
        "id": "vB2QHUbPCOAP",
        "outputId": "d0a90421-6325-4320-8984-7e6185ef74f5"
      },
      "source": [
        "import satx\n",
        "\n",
        "satx.engine(4, cnf_path='tmp.cnf')\n",
        "\n",
        "x = satx.integer()\n",
        "y = satx.integer()\n",
        "\n",
        "assert abs(x - y) == 1\n",
        "\n",
        "assert x != satx.oo()\n",
        "assert y != satx.oo()\n",
        "\n",
        "while satx.satisfy('slime'):\n",
        "    print(x, y, x - y, abs(x - y))"
      ],
      "execution_count": null,
      "outputs": [
        {
          "name": "stdout",
          "output_type": "stream",
          "text": [
            "8 9 -1 1\n",
            "12 13 -1 1\n",
            "4 5 -1 1\n",
            "10 9 1 1\n",
            "2 1 1 1\n",
            "14 13 1 1\n",
            "6 5 1 1\n",
            "9 8 1 1\n",
            "13 12 1 1\n",
            "5 4 1 1\n",
            "12 11 1 1\n",
            "4 3 1 1\n",
            "8 7 1 1\n",
            "10 11 -1 1\n",
            "11 10 1 1\n",
            "2 3 -1 1\n",
            "14 15 -1 1\n",
            "6 7 -1 1\n",
            "3 2 1 1\n",
            "15 14 1 1\n",
            "7 6 1 1\n",
            "7 8 -1 1\n",
            "1 2 -1 1\n",
            "5 6 -1 1\n",
            "11 12 -1 1\n",
            "3 4 -1 1\n",
            "9 10 -1 1\n",
            "13 14 -1 1\n"
          ]
        }
      ]
    },
    {
      "cell_type": "markdown",
      "metadata": {
        "id": "LrPaLRqeOjkg"
      },
      "source": [
        "# CENTROID"
      ]
    },
    {
      "cell_type": "code",
      "metadata": {
        "colab": {
          "base_uri": "https://localhost:8080/",
          "height": 280
        },
        "id": "zeVnsPPqOnPX",
        "outputId": "87434b91-c7b1-4c4e-fc8b-18bc20e93558"
      },
      "source": [
        "import numpy as np\n",
        "import satx\n",
        "import matplotlib.pyplot as plt\n",
        "\n",
        "n = 15\n",
        "\n",
        "data = np.random.randint(0, 10, size=(n, 2))\n",
        "\n",
        "opt = 1\n",
        "while True:\n",
        "    satx.engine(10, cnf_path='tmp.cnf')\n",
        "\n",
        "    x = satx.integer()\n",
        "    y = satx.integer()\n",
        "\n",
        "    assert sum(abs(xy[0] - x) + abs(xy[1] - y) for xy in data) < opt\n",
        "    \n",
        "    assert x != satx.oo()\n",
        "    assert y != satx.oo()\n",
        "\n",
        "    if satx.satisfy('slime'):        \n",
        "        print(x, y)\n",
        "        a, b = zip(*data)\n",
        "        plt.plot(a, b, '.')\n",
        "        plt.plot(x, y, 'x')\n",
        "        plt.show()\n",
        "        break\n",
        "    else:\n",
        "        opt += 1"
      ],
      "execution_count": null,
      "outputs": [
        {
          "name": "stdout",
          "output_type": "stream",
          "text": [
            "3 3\n"
          ]
        },
        {
          "data": {
            "image/png": "[encoded data removed]",
            "text/plain": [
              "<Figure size 432x288 with 1 Axes>"
            ]
          },
          "metadata": {
            "needs_background": "light"
          },
          "output_type": "display_data"
        }
      ]
    },
    {
      "cell_type": "markdown",
      "metadata": {
        "id": "oWFt1q0XV-7j"
      },
      "source": [
        "# FERMAT'S FACTORIZATION METHOD\n",
        "\n",
        "Note: when there is a negative number in the model, increment the bits by 1."
      ]
    },
    {
      "cell_type": "code",
      "metadata": {
        "colab": {
          "base_uri": "https://localhost:8080/"
        },
        "id": "k01dOcjOVk9w",
        "tags": [],
        "outputId": "d39152c4-15a5-4d95-d825-40c34688f944"
      },
      "source": [
        "import satx\n",
        "\n",
        "rsa = 3007\n",
        "\n",
        "satx.engine(rsa.bit_length() + 1, cnf_path='tmp.cnf')\n",
        "\n",
        "p = satx.integer()\n",
        "q = satx.integer()\n",
        "\n",
        "assert p ** 2 - q ** 2 == rsa\n",
        "assert q < p\n",
        "\n",
        "if satx.satisfy('slime'):\n",
        "    print(p, q, p + q, p - q)\n",
        "else:\n",
        "    print('Is Prime!')"
      ],
      "execution_count": null,
      "outputs": [
        {
          "name": "stdout",
          "output_type": "stream",
          "text": [
            "64 33 97 31\n"
          ]
        }
      ]
    },
    {
      "cell_type": "markdown",
      "metadata": {
        "id": "GgE1AgRiYmij"
      },
      "source": [
        "# EXPONENTIAL DIOPHANTINE EQUATIONS\n"
      ]
    },
    {
      "cell_type": "code",
      "metadata": {
        "colab": {
          "base_uri": "https://localhost:8080/"
        },
        "id": "XU0I3MnZYu-x",
        "tags": [],
        "outputId": "91f586df-131a-4669-9107-86f47365a056"
      },
      "source": [
        "import satx\n",
        "\n",
        "satx.engine(10, cnf_path='tmp.cnf')\n",
        "\n",
        "x = satx.integer()\n",
        "y = satx.integer()\n",
        "z = satx.integer()\n",
        "\n",
        "satx.apply_single([x, y, z], lambda t: t != 0)\n",
        "\n",
        "assert x ** y == z\n",
        "\n",
        "while satx.satisfy('slime'):\n",
        "    print(x, y, z)"
      ],
      "execution_count": null,
      "outputs": [
        {
          "name": "stdout",
          "output_type": "stream",
          "text": [
            "1 1 1\n",
            "2 2 4\n",
            "2 1 2\n",
            "2 5 32\n",
            "2 3 8\n",
            "1 2 1\n",
            "1 4 1\n",
            "1 3 1\n",
            "1 5 1\n",
            "2 4 16\n",
            "3 5 243\n",
            "3 4 81\n",
            "3 2 9\n",
            "3 1 3\n",
            "3 3 27\n"
          ]
        }
      ]
    },
    {
      "cell_type": "markdown",
      "metadata": {
        "id": "EUBndQTWCOAd"
      },
      "source": [
        "# ON THE DIOPHANTINE EQUATION $x^2 + c = 3^n$ WITH $x, c, n > 1$"
      ]
    },
    {
      "cell_type": "code",
      "metadata": {
        "colab": {
          "base_uri": "https://localhost:8080/"
        },
        "id": "yTLNkcWACOAd",
        "tags": [],
        "outputId": "e3f397de-9eeb-48c5-9ab7-52a209d27a5b"
      },
      "source": [
        "import satx\n",
        "\n",
        "n = 32\n",
        "\n",
        "satx.engine(n.bit_length(), cnf_path='tmp.cnf')\n",
        "\n",
        "_3 = satx.constant(3)\n",
        "n = satx.integer()\n",
        "x = satx.integer()\n",
        "c = satx.integer()\n",
        "\n",
        "assert x ** 2 + c == _3 ** n\n",
        "assert x > 1\n",
        "assert c > 1\n",
        "assert n > 1\n",
        "\n",
        "if satx.satisfy('slime'):\n",
        "    print(n, x, c)\n",
        "else:\n",
        "    print('Infeasible for bit range...')"
      ],
      "execution_count": null,
      "outputs": [
        {
          "name": "stdout",
          "output_type": "stream",
          "text": [
            "3 4 11\n"
          ]
        }
      ]
    },
    {
      "cell_type": "markdown",
      "metadata": {
        "id": "8EJXiM2FCOAh"
      },
      "source": [
        "# FACTORIALS"
      ]
    },
    {
      "cell_type": "code",
      "metadata": {
        "colab": {
          "base_uri": "https://localhost:8080/"
        },
        "id": "iwack4VxCOAh",
        "outputId": "1fff8b25-1dd2-4701-e98f-1e0eb4f4a7f6"
      },
      "source": [
        "import math\n",
        "import satx\n",
        "\n",
        "satx.engine(32, cnf_path='tmp.cnf')\n",
        "\n",
        "x = satx.integer()\n",
        "\n",
        "satx.factorial(x) == math.factorial(10)\n",
        "\n",
        "if satx.satisfy('slime'):\n",
        "    print(x)\n",
        "else:\n",
        "    print('Need more bits!')"
      ],
      "execution_count": null,
      "outputs": [
        {
          "name": "stdout",
          "output_type": "stream",
          "text": [
            "10\n"
          ]
        }
      ]
    },
    {
      "cell_type": "markdown",
      "metadata": {
        "id": "O4gi4qEGCOAk"
      },
      "source": [
        "# $\\Sigma$"
      ]
    },
    {
      "cell_type": "code",
      "metadata": {
        "colab": {
          "base_uri": "https://localhost:8080/"
        },
        "id": "MANm7Pu8COAl",
        "outputId": "01a54a59-5712-4ba6-8753-48b891aa7473"
      },
      "source": [
        "import satx\n",
        "\n",
        "satx.engine(16, cnf_path='tmp.cnf')\n",
        "\n",
        "x = satx.integer()\n",
        "n = satx.integer()\n",
        "\n",
        "satx.sigma(lambda k: k ** 2, 1, n) == x\n",
        "\n",
        "while satx.satisfy('slime'):\n",
        "    print(x, n, sum(k ** 2 for k in range(1, n.value + 1)))\n"
      ],
      "execution_count": null,
      "outputs": [
        {
          "name": "stdout",
          "output_type": "stream",
          "text": [
            "650 12 650\n",
            "1 1 1\n",
            "5 2 5\n",
            "14 3 14\n",
            "506 11 506\n",
            "285 9 285\n",
            "819 13 819\n",
            "1015 14 1015\n",
            "385 10 385\n",
            "55 5 55\n",
            "91 6 91\n",
            "204 8 204\n",
            "0 0 0\n",
            "30 4 30\n",
            "140 7 140\n"
          ]
        }
      ]
    },
    {
      "cell_type": "markdown",
      "metadata": {
        "id": "VWgIBrvZCOAn"
      },
      "source": [
        "# $\\Pi$"
      ]
    },
    {
      "cell_type": "code",
      "metadata": {
        "colab": {
          "base_uri": "https://localhost:8080/"
        },
        "id": "TxIWHtjXCOAo",
        "outputId": "0a65013f-b102-49a8-e2d9-a6263a5a1dbc"
      },
      "source": [
        "import functools\n",
        "import operator\n",
        "import math\n",
        "import satx\n",
        "\n",
        "satx.engine(32, cnf_path='tmp.cnf')\n",
        "\n",
        "x = satx.integer()\n",
        "n = satx.integer()\n",
        "\n",
        "satx.pi(lambda k: k ** 2, 1, n) == x\n",
        "assert 0 < x <= 2 ** math.log(satx.oo()) # limit the CNF overflow\n",
        "assert n > 0\n",
        "\n",
        "while satx.satisfy('slime'):\n",
        "    print(x, n, functools.reduce(operator.mul, (k ** 2 for k in range(1, n.value + 1))))"
      ],
      "execution_count": null,
      "outputs": [
        {
          "name": "stdout",
          "output_type": "stream",
          "text": [
            "4 2 4\n",
            "576 4 576\n",
            "518400 6 518400\n",
            "14400 5 14400\n",
            "1 1 1\n",
            "36 3 36\n"
          ]
        }
      ]
    },
    {
      "cell_type": "markdown",
      "metadata": {
        "id": "dq3QrO15MjGZ"
      },
      "source": [
        "# SAT-X VS FIBONACCI NUMBERS | N VS TIME"
      ]
    },
    {
      "cell_type": "code",
      "metadata": {
        "colab": {
          "base_uri": "https://localhost:8080/",
          "height": 1000
        },
        "id": "hmnhjMXsMm3n",
        "outputId": "0e0f8107-d77c-457a-c121-fe7ec430e7b3"
      },
      "source": [
        "import time\n",
        "import satx\n",
        "import matplotlib.pyplot as plt\n",
        "\n",
        "ns, ts = [], []\n",
        "for n in range(2, 100):\n",
        "\n",
        "    satx.engine(n, cnf_path='tmp.cnf')\n",
        "\n",
        "    x = satx.vector(size=n + 1)\n",
        "\n",
        "    assert x[0] == 0\n",
        "    assert x[1] == 1\n",
        "    for i in range(2, n + 1):\n",
        "        assert x[i - 1] + x[i - 2] == x[i]\n",
        "\n",
        "    ini = time.time()\n",
        "    if satx.satisfy('slime'):\n",
        "        print(n, x[n])\n",
        "    else:\n",
        "        print('Infeasible ...')\n",
        "    end = time.time()\n",
        "    ns.append(n)\n",
        "    ts.append(end - ini)\n",
        "\n",
        "plt.title('SAT-X vs Fibonacci Numbers | n vs time')\n",
        "plt.plot(ns, ts)\n",
        "plt.show()"
      ],
      "execution_count": null,
      "outputs": [
        {
          "name": "stdout",
          "output_type": "stream",
          "text": [
            "2 1\n",
            "3 2\n",
            "4 3\n",
            "5 5\n",
            "6 8\n",
            "7 13\n",
            "8 21\n",
            "9 34\n",
            "10 55\n",
            "11 89\n",
            "12 144\n",
            "13 233\n",
            "14 377\n",
            "15 610\n",
            "16 987\n",
            "17 1597\n",
            "18 2584\n",
            "19 4181\n",
            "20 6765\n",
            "21 10946\n",
            "22 17711\n",
            "23 28657\n",
            "24 46368\n",
            "25 75025\n",
            "26 121393\n",
            "27 196418\n",
            "28 317811\n",
            "29 514229\n",
            "30 832040\n",
            "31 1346269\n",
            "32 2178309\n",
            "33 3524578\n",
            "34 5702887\n",
            "35 9227465\n",
            "36 14930352\n",
            "37 24157817\n",
            "38 39088169\n",
            "39 63245986\n",
            "40 102334155\n",
            "41 165580141\n",
            "42 267914296\n",
            "43 433494437\n",
            "44 701408733\n",
            "45 1134903170\n",
            "46 1836311903\n",
            "47 2971215073\n",
            "48 4807526976\n",
            "49 7778742049\n",
            "50 12586269025\n",
            "51 20365011074\n",
            "52 32951280099\n",
            "53 53316291173\n",
            "54 86267571272\n",
            "55 139583862445\n",
            "56 225851433717\n",
            "57 365435296162\n",
            "58 591286729879\n",
            "59 956722026041\n",
            "60 1548008755920\n",
            "61 2504730781961\n",
            "62 4052739537881\n",
            "63 6557470319842\n",
            "64 10610209857723\n",
            "65 17167680177565\n",
            "66 27777890035288\n",
            "67 44945570212853\n",
            "68 72723460248141\n",
            "69 117669030460994\n",
            "70 190392490709135\n",
            "71 308061521170129\n",
            "72 498454011879264\n",
            "73 806515533049393\n",
            "74 1304969544928657\n",
            "75 2111485077978050\n",
            "76 3416454622906707\n",
            "77 5527939700884757\n",
            "78 8944394323791464\n",
            "79 14472334024676221\n",
            "80 23416728348467685\n",
            "81 37889062373143906\n",
            "82 61305790721611591\n",
            "83 99194853094755497\n",
            "84 160500643816367088\n",
            "85 259695496911122585\n",
            "86 420196140727489673\n",
            "87 679891637638612258\n",
            "88 1100087778366101931\n",
            "89 1779979416004714189\n",
            "90 2880067194370816120\n",
            "91 4660046610375530309\n",
            "92 7540113804746346429\n",
            "93 12200160415121876738\n",
            "94 19740274219868223167\n",
            "95 31940434634990099905\n",
            "96 51680708854858323072\n",
            "97 83621143489848422977\n",
            "98 135301852344706746049\n",
            "99 218922995834555169026\n"
          ]
        },
        {
          "data": {
            "image/png": "[encoded data removed]",
            "text/plain": [
              "<Figure size 432x288 with 1 Axes>"
            ]
          },
          "metadata": {
            "needs_background": "light"
          },
          "output_type": "display_data"
        }
      ]
    },
    {
      "cell_type": "markdown",
      "metadata": {
        "id": "fkO7OMupWbBy"
      },
      "source": [
        "# TENSORS\n",
        "\n",
        "Tensors object are the most advanced concept behind SAT-X, integers are tensors, work like integers, but their bits act like an multidimensional matrix of lambda functions.\n",
        "\n",
        "Note: [[*]] for acces to lambda (bit) functions."
      ]
    },
    {
      "cell_type": "code",
      "metadata": {
        "colab": {
          "base_uri": "https://localhost:8080/"
        },
        "id": "RR7JLifNZo95",
        "outputId": "23b1b73c-4785-4a11-a8d0-022fed5229e9"
      },
      "source": [
        "import satx\n",
        "\n",
        "satx.engine(10, cnf_path='tmp.cnf')\n",
        "\n",
        "x = satx.tensor(dimensions=(4))\n",
        "y = satx.tensor(dimensions=(2, 2))\n",
        "\n",
        "assert x + y == 10\n",
        "assert x[[0]](0, 1) == 1\n",
        "assert y[[0, 0]](0, 1) == 1\n",
        "\n",
        "while satx.satisfy('slime'):\n",
        "    print(x, y, x.binary, y.binary)"
      ],
      "execution_count": null,
      "outputs": [
        {
          "name": "stdout",
          "output_type": "stream",
          "text": [
            "1 9 [True, False, False, False] [[True, False], [False, True]]\n",
            "9 1 [True, False, False, True] [[True, False], [False, False]]\n",
            "5 5 [True, False, True, False] [[True, False], [True, False]]\n",
            "7 3 [True, True, True, False] [[True, True], [False, False]]\n",
            "3 7 [True, True, False, False] [[True, True], [True, False]]\n"
          ]
        }
      ]
    },
    {
      "cell_type": "code",
      "metadata": {
        "colab": {
          "base_uri": "https://localhost:8080/"
        },
        "id": "upsI_STPaZee",
        "outputId": "dbf79ef4-8d6f-4f62-d493-ff774f9778fd"
      },
      "source": [
        "import numpy as np\n",
        "import satx\n",
        "\n",
        "n = 2\n",
        "\n",
        "satx.engine(4, cnf_path='tmp.cnf')\n",
        "\n",
        "x = satx.tensor(dimensions=(n, n))\n",
        "a = satx.integer()\n",
        "b = satx.integer()\n",
        "\n",
        "assert sum(x[[i, j]](a ** 2 - b ** 3, a ** 3 - b ** 2) for i in range(n) for j in range(n)) == 0\n",
        "\n",
        "while satx.satisfy('slime'):\n",
        "    print(a, b)\n",
        "    print(np.vectorize(int)(x.binary))\n",
        "    print()"
      ],
      "execution_count": null,
      "outputs": [
        {
          "name": "stdout",
          "output_type": "stream",
          "text": [
            "0 0\n",
            "[[0 0]\n",
            " [0 0]]\n",
            "\n",
            "0 0\n",
            "[[0 1]\n",
            " [0 0]]\n",
            "\n",
            "0 0\n",
            "[[1 0]\n",
            " [0 0]]\n",
            "\n",
            "0 0\n",
            "[[0 0]\n",
            " [1 1]]\n",
            "\n",
            "0 0\n",
            "[[0 0]\n",
            " [1 0]]\n",
            "\n",
            "0 0\n",
            "[[0 0]\n",
            " [0 1]]\n",
            "\n",
            "0 0\n",
            "[[1 0]\n",
            " [0 1]]\n",
            "\n",
            "0 0\n",
            "[[1 0]\n",
            " [1 0]]\n",
            "\n",
            "0 0\n",
            "[[1 1]\n",
            " [0 0]]\n",
            "\n",
            "0 0\n",
            "[[1 1]\n",
            " [0 1]]\n",
            "\n",
            "0 0\n",
            "[[1 1]\n",
            " [1 0]]\n",
            "\n",
            "0 0\n",
            "[[1 1]\n",
            " [1 1]]\n",
            "\n",
            "0 0\n",
            "[[0 1]\n",
            " [1 0]]\n",
            "\n",
            "0 0\n",
            "[[0 1]\n",
            " [1 1]]\n",
            "\n",
            "0 0\n",
            "[[1 0]\n",
            " [1 1]]\n",
            "\n",
            "0 0\n",
            "[[0 1]\n",
            " [0 1]]\n",
            "\n",
            "1 1\n",
            "[[0 0]\n",
            " [0 0]]\n",
            "\n",
            "1 1\n",
            "[[1 1]\n",
            " [1 0]]\n",
            "\n",
            "1 1\n",
            "[[0 0]\n",
            " [0 1]]\n",
            "\n",
            "1 1\n",
            "[[1 0]\n",
            " [1 0]]\n",
            "\n",
            "1 1\n",
            "[[0 1]\n",
            " [0 0]]\n",
            "\n",
            "1 1\n",
            "[[1 1]\n",
            " [0 0]]\n",
            "\n",
            "1 1\n",
            "[[0 1]\n",
            " [0 1]]\n",
            "\n",
            "1 1\n",
            "[[0 1]\n",
            " [1 0]]\n",
            "\n",
            "1 1\n",
            "[[1 1]\n",
            " [0 1]]\n",
            "\n",
            "1 1\n",
            "[[1 0]\n",
            " [0 0]]\n",
            "\n",
            "1 1\n",
            "[[1 1]\n",
            " [1 1]]\n",
            "\n",
            "1 1\n",
            "[[1 0]\n",
            " [0 1]]\n",
            "\n",
            "1 1\n",
            "[[1 0]\n",
            " [1 1]]\n",
            "\n",
            "1 1\n",
            "[[0 1]\n",
            " [1 1]]\n",
            "\n",
            "1 1\n",
            "[[0 0]\n",
            " [1 1]]\n",
            "\n",
            "1 1\n",
            "[[0 0]\n",
            " [1 0]]\n",
            "\n"
          ]
        }
      ]
    },
    {
      "cell_type": "markdown",
      "metadata": {
        "id": "yfhZFB3BXuNH"
      },
      "source": [
        "# RSA FACTORIZATION WITH TENSORS"
      ]
    },
    {
      "cell_type": "code",
      "metadata": {
        "colab": {
          "base_uri": "https://localhost:8080/"
        },
        "id": "67L02LcOWKSV",
        "outputId": "1db60e2a-cd23-4fc5-a24e-bf30840f1974"
      },
      "source": [
        "import satx\n",
        "\n",
        "rsa = 3007\n",
        "\n",
        "satx.engine(rsa.bit_length(), cnf_path='tmp.cnf')\n",
        "\n",
        "p = satx.tensor(dimensions=(satx.bits()))\n",
        "q = satx.tensor(dimensions=(satx.bits()))\n",
        "\n",
        "assert p * q == rsa\n",
        "assert p[[0]](0, 1) == 1\n",
        "assert q[[0]](0, 1) == 1\n",
        "assert sum(p[[i]](0, 1) for i in range(satx.bits() // 2 + 1, satx.bits())) == 0\n",
        "assert sum(q[[i]](0, 1) for i in range(satx.bits() // 2, satx.bits())) == 0\n",
        "\n",
        "if satx.satisfy('slime'):\n",
        "    print(p, q)\n",
        "else:\n",
        "    print('Is Prime!')"
      ],
      "execution_count": null,
      "outputs": [
        {
          "name": "stdout",
          "output_type": "stream",
          "text": [
            "97 31\n"
          ]
        }
      ]
    },
    {
      "cell_type": "markdown",
      "metadata": {
        "id": "U7_zMGVNXVnh"
      },
      "source": [
        "# SAT REFORMULATION WITH TENSORS"
      ]
    },
    {
      "cell_type": "code",
      "metadata": {
        "colab": {
          "base_uri": "https://localhost:8080/"
        },
        "id": "fFW0JlyaXMRO",
        "outputId": "9368de74-ae6e-4690-d47c-4e77ae040871"
      },
      "source": [
        "import functools\n",
        "import operator\n",
        "import sys\n",
        "\n",
        "import satx\n",
        "\n",
        "\n",
        "n, m, sat = 10, 24, [[9, -5, 10, -6, 3],\n",
        "                     [6, 8],\n",
        "                     [8, 4],\n",
        "                     [-10, 5],\n",
        "                     [-9, 8],\n",
        "                     [-9, -3],\n",
        "                     [-2, 5],\n",
        "                     [6, 4],\n",
        "                     [-2, -1],\n",
        "                     [7, -2],\n",
        "                     [-9, 4],\n",
        "                     [-1, -10],\n",
        "                     [-3, 4],\n",
        "                     [7, 5],\n",
        "                     [6, -3],\n",
        "                     [-10, 7],\n",
        "                     [-1, 7],\n",
        "                     [8, -3],\n",
        "                     [-2, -10],\n",
        "                     [-1, 5],\n",
        "                     [-7, 1, 9, -6, 3],\n",
        "                     [-9, 6],\n",
        "                     [-8, 10, -5, -4, 2],\n",
        "                     [-4, -7, 1, -8, 2]]\n",
        "\n",
        "\n",
        "if __name__ == '__main__':\n",
        "    \n",
        "    satx.engine(bits=1, cnf_path='tmp.cnf')\n",
        "    \n",
        "    x = satx.tensor(dimensions=(n,))\n",
        "    \n",
        "    assert functools.reduce(operator.iand, (functools.reduce(operator.ior, (x[[abs(lit) - 1]](lit < 0, lit > 0) for lit in cls)) for cls in sat)) == 1\n",
        "    \n",
        "    if satx.satisfy('slime'):\n",
        "        print('SAT')\n",
        "        print(' '.join(map(str, [(i + 1) if b else -(i + 1) for i, b in enumerate(x.binary)])) + ' 0')\n",
        "    else:\n",
        "        print('')"
      ],
      "execution_count": null,
      "outputs": [
        {
          "name": "stdout",
          "output_type": "stream",
          "text": [
            "SAT\n",
            "-1 2 -3 4 5 -6 7 8 -9 -10 0\n"
          ]
        }
      ]
    },
    {
      "cell_type": "markdown",
      "metadata": {
        "id": "9hQcWGrRX1Wg"
      },
      "source": [
        "# SUM SUBSET PROBLEM WITH TENSORS"
      ]
    },
    {
      "cell_type": "code",
      "metadata": {
        "colab": {
          "base_uri": "https://localhost:8080/"
        },
        "id": "p5khFp70X6a_",
        "outputId": "a6fe42da-a7ee-4745-a09c-2b359bf9f9c5"
      },
      "source": [
        "import numpy as np\n",
        "import satx\n",
        "\n",
        "universe = np.random.randint(1, 2 ** 16, size=100)\n",
        "t = np.random.randint(min(universe), sum(universe))\n",
        "\n",
        "satx.engine(t.bit_length(), cnf_path='tmp.cnf')\n",
        "\n",
        "x = satx.tensor(dimensions=(len(universe)))\n",
        "\n",
        "assert sum(x[[i]](0, universe[i]) for i in range(len(universe))) == t\n",
        "\n",
        "if satx.satisfy('slime'):\n",
        "    sub = [universe[i] for i in range(len(universe)) if x.binary[i]]\n",
        "    print(t, sum(sub), sub)\n",
        "else:\n",
        "    print('Infeasible ...')"
      ],
      "execution_count": null,
      "outputs": [
        {
          "name": "stdout",
          "output_type": "stream",
          "text": [
            "499751 499751 [24973, 64062, 53269, 15271, 12933, 33047, 6702, 3432, 8744, 33565, 11760, 3393, 41702, 4396, 1117, 5956, 251, 20783, 41793, 33927, 21378, 19539, 21515, 2587, 1797, 11859]\n"
          ]
        }
      ]
    },
    {
      "cell_type": "markdown",
      "metadata": {
        "id": "lxKWdGrI964h"
      },
      "source": [
        "# MULTISET RECONSTRUCTION BY DIFFERENCES\n",
        "\n",
        "Given a sorted multiset, their differences and one tip (an element and position for only one arbitrary element), is possible recovery the original multiset?"
      ]
    },
    {
      "cell_type": "code",
      "metadata": {
        "colab": {
          "base_uri": "https://localhost:8080/"
        },
        "id": "sDtWaw6l964i",
        "outputId": "681dbd6c-d8f6-4d32-b69e-3de1e983d0c7"
      },
      "source": [
        "import time\n",
        "import random\n",
        "import satx\n",
        "\n",
        "\n",
        "def generator(n, max_val):\n",
        "    return sorted([random.randint(1, max_val) for _ in range(n)])\n",
        "\n",
        "\n",
        "def differences(lst):\n",
        "    return [abs(lst[i] - lst[i - 1]) for i in range(1, len(lst))]\n",
        "\n",
        "\n",
        "# 100 tests\n",
        "for n in range(1, 10):\n",
        "\n",
        "    m = random.randint(1, n ** 2)\n",
        "\n",
        "    original = generator(n, m)\n",
        "    diffs = differences(original)\n",
        "\n",
        "    print('N, M         : {}, {}'.format(n, m))\n",
        "    print('DIFFERENCES  : {}'.format(diffs))\n",
        "    print('ORIGINAL     : {}'.format(original))\n",
        "\n",
        "    # only one tip\n",
        "    ith = random.choice(range(n))\n",
        "    tip = original[ith]\n",
        "\n",
        "    # init timer\n",
        "    ini = time.time()\n",
        "\n",
        "    # Empirical bits necessarily to solve the problem.\n",
        "    satx.engine(sum(diffs).bit_length() + 4, cnf_path='tmp.cnf')\n",
        "\n",
        "    # Declare a n-vector of integer variables to store the solution.\n",
        "    x = satx.vector(size=n)\n",
        "\n",
        "    # The tip is on x at index ith\n",
        "    assert tip == satx.index(ith, x)\n",
        "\n",
        "    # The i-th element of the instance is the absolute difference of two consecutive elements\n",
        "    for i in range(n - 1):\n",
        "        assert x[i] <= x[i + 1]\n",
        "        assert satx.index(i, diffs) == x[i + 1] - x[i]\n",
        "\n",
        "    # Solve the problem for only one solution\n",
        "    # Turbo parameter is a destructive simplification\n",
        "    # Solve with all power os SLIME SAT Solver but only for the fist solution.\n",
        "    if satx.satisfy('slime'):\n",
        "        o = [abs(x[i + 1] - x[i]) for i in range(n - 1)]\n",
        "        c = 100 * len(set(map(int, x)).intersection(set(original))) / len(set(original))\n",
        "        print('SOLVED       : {}'.format(x))\n",
        "        print('COINCIDENCES : {}%'.format(c))\n",
        "        if o == diffs:\n",
        "            print('OK! - {}s'.format(time.time() - ini))\n",
        "        else:\n",
        "            print('NOK! - {}s'.format(time.time() - ini))\n",
        "            raise Exception('ERROR!')\n",
        "        if c != 100:\n",
        "            raise Exception('Hypothesis Fail - 100%')"
      ],
      "execution_count": null,
      "outputs": [
        {
          "name": "stdout",
          "output_type": "stream",
          "text": [
            "N, M         : 1, 1\n",
            "DIFFERENCES  : []\n",
            "ORIGINAL     : [1]\n",
            "SOLVED       : [1]\n",
            "COINCIDENCES : 100.0%\n",
            "OK! - 0.016922950744628906s\n",
            "N, M         : 2, 3\n",
            "DIFFERENCES  : [1]\n",
            "ORIGINAL     : [2, 3]\n",
            "SOLVED       : [2, 3]\n",
            "COINCIDENCES : 100.0%\n",
            "OK! - 0.02008986473083496s\n",
            "N, M         : 3, 9\n",
            "DIFFERENCES  : [1, 5]\n",
            "ORIGINAL     : [2, 3, 8]\n",
            "SOLVED       : [2, 3, 8]\n",
            "COINCIDENCES : 100.0%\n",
            "OK! - 0.03384590148925781s\n",
            "N, M         : 4, 15\n",
            "DIFFERENCES  : [4, 1, 4]\n",
            "ORIGINAL     : [5, 9, 10, 14]\n",
            "SOLVED       : [5, 9, 10, 14]\n",
            "COINCIDENCES : 100.0%\n",
            "OK! - 0.049759864807128906s\n",
            "N, M         : 5, 11\n",
            "DIFFERENCES  : [1, 4, 0, 1]\n",
            "ORIGINAL     : [3, 4, 8, 8, 9]\n",
            "SOLVED       : [3, 4, 8, 8, 9]\n",
            "COINCIDENCES : 100.0%\n",
            "OK! - 0.056195974349975586s\n",
            "N, M         : 6, 18\n",
            "DIFFERENCES  : [5, 5, 2, 2, 3]\n",
            "ORIGINAL     : [1, 6, 11, 13, 15, 18]\n",
            "SOLVED       : [1, 6, 11, 13, 15, 18]\n",
            "COINCIDENCES : 100.0%\n",
            "OK! - 0.09223389625549316s\n",
            "N, M         : 7, 7\n",
            "DIFFERENCES  : [1, 1, 0, 3, 1, 0]\n",
            "ORIGINAL     : [1, 2, 3, 3, 6, 7, 7]\n",
            "SOLVED       : [1, 2, 3, 3, 6, 7, 7]\n",
            "COINCIDENCES : 100.0%\n",
            "OK! - 0.09846997261047363s\n",
            "N, M         : 8, 4\n",
            "DIFFERENCES  : [0, 0, 2, 0, 1, 0, 0]\n",
            "ORIGINAL     : [1, 1, 1, 3, 3, 4, 4, 4]\n",
            "SOLVED       : [1, 1, 1, 3, 3, 4, 4, 4]\n",
            "COINCIDENCES : 100.0%\n",
            "OK! - 0.11025714874267578s\n",
            "N, M         : 9, 52\n",
            "DIFFERENCES  : [1, 3, 4, 8, 3, 7, 0, 1]\n",
            "ORIGINAL     : [7, 8, 11, 15, 23, 26, 33, 33, 34]\n",
            "SOLVED       : [7, 8, 11, 15, 23, 26, 33, 33, 34]\n",
            "COINCIDENCES : 100.0%\n",
            "OK! - 0.22067713737487793s\n"
          ]
        }
      ]
    },
    {
      "cell_type": "markdown",
      "metadata": {
        "id": "c2MllZ2i964r"
      },
      "source": [
        "# DIOPHANTINE EQUATIONS\n",
        "\n",
        "https://en.wikipedia.org/wiki/Diophantine_equation"
      ]
    },
    {
      "cell_type": "markdown",
      "metadata": {
        "id": "DK1DC7aE964s"
      },
      "source": [
        "### Let be $x, y \\in \\mathbb{N} \\vert x^3 - x + 1 = y^2$"
      ]
    },
    {
      "cell_type": "code",
      "metadata": {
        "colab": {
          "base_uri": "https://localhost:8080/"
        },
        "id": "7bgCxLRI964t",
        "outputId": "4ca3a6ee-2765-4aca-de04-15c07a5ef656"
      },
      "source": [
        "import satx\n",
        "\n",
        "satx.engine(10, cnf_path='tmp.cnf')\n",
        "\n",
        "x = satx.integer()\n",
        "y = satx.integer()\n",
        "\n",
        "assert x ** 3 - x + 1 == y ** 2\n",
        "\n",
        "assert x != 0\n",
        "assert y != 0\n",
        "\n",
        "while satx.satisfy('slime'):\n",
        "    print('{0} ** 3 - {0} + 1, {1} ** 2'.format(x, y))"
      ],
      "execution_count": null,
      "outputs": [
        {
          "name": "stdout",
          "output_type": "stream",
          "text": [
            "1 ** 3 - 1 + 1, 1 ** 2\n",
            "5 ** 3 - 5 + 1, 11 ** 2\n",
            "3 ** 3 - 3 + 1, 5 ** 2\n"
          ]
        }
      ]
    },
    {
      "cell_type": "markdown",
      "metadata": {
        "id": "tXkkLVGl964w"
      },
      "source": [
        "### Let be $x, y \\in \\mathbb{Q} \\vert x^3 + xy = y^2$"
      ]
    },
    {
      "cell_type": "code",
      "metadata": {
        "colab": {
          "base_uri": "https://localhost:8080/"
        },
        "id": "p84V_ORl964w",
        "outputId": "b5bddbb7-b512-4f97-9e5e-1c28218bd450"
      },
      "source": [
        "import satx\n",
        "\n",
        "satx.engine(10, cnf_path='tmp.cnf')\n",
        "\n",
        "x = satx.rational()\n",
        "y = satx.rational()\n",
        "\n",
        "assert x ** 3 + x * y == y ** 2\n",
        "assert x != 0\n",
        "assert y != 0\n",
        "\n",
        "while satx.satisfy('slime'):\n",
        "    print('{0} ** 3 + {0} * {1} == {1} ** 2'.format(x, y))"
      ],
      "execution_count": null,
      "outputs": [
        {
          "name": "stdout",
          "output_type": "stream",
          "text": [
            "(2 / 1) ** 3 + (2 / 1) * (4 / 1) == (4 / 1) ** 2\n",
            "(4 / 2) ** 3 + (4 / 2) * (8 / 2) == (8 / 2) ** 2\n",
            "(4 / 2) ** 3 + (4 / 2) * (4 / 1) == (4 / 1) ** 2\n",
            "(6 / 1) ** 3 + (6 / 1) * (18 / 1) == (18 / 1) ** 2\n"
          ]
        }
      ]
    },
    {
      "cell_type": "markdown",
      "metadata": {
        "id": "ijexlhdd9642"
      },
      "source": [
        "# Vectors"
      ]
    },
    {
      "cell_type": "code",
      "metadata": {
        "colab": {
          "base_uri": "https://localhost:8080/",
          "height": 263
        },
        "id": "QNWHLqHS9644",
        "outputId": "03e99a57-06b1-4e5b-bbdb-29650a1a4507"
      },
      "source": [
        "import numpy as np\n",
        "import satx\n",
        "import matplotlib.pyplot as plt\n",
        "\n",
        "dim = 2\n",
        "\n",
        "satx.engine(5, cnf_path='tmp.cnf')\n",
        "\n",
        "ps = satx.vector(size=dim, is_rational=True)\n",
        "\n",
        "assert sum([p ** dim for p in ps]) <= 1\n",
        "\n",
        "dots = []\n",
        "while satx.satisfy('slime'):\n",
        "    dots.append(np.vectorize(float)(ps))\n",
        "\n",
        "x, y = zip(*dots)\n",
        "plt.axis('equal')\n",
        "plt.plot(x, y, 'r.')\n",
        "plt.show()"
      ],
      "execution_count": null,
      "outputs": [
        {
          "data": {
            "image/png": "[encoded data removed]",
            "text/plain": [
              "<Figure size 432x288 with 1 Axes>"
            ]
          },
          "metadata": {
            "needs_background": "light"
          },
          "output_type": "display_data"
        }
      ]
    },
    {
      "cell_type": "markdown",
      "metadata": {
        "id": "C0lkauin9646"
      },
      "source": [
        "# NP-COMPLETE PROBLEMS\n",
        "\n",
        "NP-Complete problem, any of a class of computational problems for which no efficient solution algorithm has been found. Many significant computer - science problems belong to this class—e.g., the traveling salesman problem, satisfiability problems, and graph - covering problems.\n",
        "\n",
        "https://en.wikipedia.org/wiki/NP-completeness"
      ]
    },
    {
      "cell_type": "markdown",
      "metadata": {
        "id": "hJQDg3rb9647"
      },
      "source": [
        "# SATISFIABILITY\n",
        "\n",
        "Study of boolean functions generally is concerned with the set of truth assignments(assignments of 0 or 1 to each of the variables) that make the function true.\n",
        "\n",
        "https://en.wikipedia.org/wiki/Boolean_satisfiability_problem"
      ]
    },
    {
      "cell_type": "code",
      "metadata": {
        "colab": {
          "base_uri": "https://localhost:8080/"
        },
        "id": "GR62G6M99647",
        "outputId": "0148d75e-63a6-4b1f-b023-c17a549a6b10"
      },
      "source": [
        "import functools\n",
        "import operator\n",
        "\n",
        "import satx\n",
        "\n",
        "n, m, sat = 10, 24, [[9, -5, 10, -6, 3],\n",
        "                     [6, 8],\n",
        "                     [8, 4],\n",
        "                     [-10, 5],\n",
        "                     [-9, 8],\n",
        "                     [-9, -3],\n",
        "                     [-2, 5],\n",
        "                     [6, 4],\n",
        "                     [-2, -1],\n",
        "                     [7, -2],\n",
        "                     [-9, 4],\n",
        "                     [-1, -10],\n",
        "                     [-3, 4],\n",
        "                     [7, 5],\n",
        "                     [6, -3],\n",
        "                     [-10, 7],\n",
        "                     [-1, 7],\n",
        "                     [8, -3],\n",
        "                     [-2, -10],\n",
        "                     [-1, 5],\n",
        "                     [-7, 1, 9, -6, 3],\n",
        "                     [-9, 6],\n",
        "                     [-8, 10, -5, -4, 2],\n",
        "                     [-4, -7, 1, -8, 2]]\n",
        "\n",
        "satx.engine(bits=1, cnf_path='tmp.cnf')\n",
        "x = satx.tensor(dimensions=(n,))\n",
        "assert functools.reduce(operator.iand, (functools.reduce(operator.ior, (x[[abs(lit) - 1]](lit < 0, lit > 0) for lit in cls)) for cls in sat)) == 1\n",
        "if satx.satisfy('slime'):\n",
        "    print('SAT')\n",
        "    print(' '.join(map(str, [(i + 1) if b else -(i + 1) for i, b in enumerate(x.binary)])) + ' 0')\n",
        "else:\n",
        "    print('UNSAT')"
      ],
      "execution_count": null,
      "outputs": [
        {
          "name": "stdout",
          "output_type": "stream",
          "text": [
            "SAT\n",
            "-1 2 -3 4 5 -6 7 8 -9 -10 0\n"
          ]
        }
      ]
    },
    {
      "cell_type": "markdown",
      "metadata": {
        "id": "-rrrwc0V9649"
      },
      "source": [
        "# k-CLIQUE\n",
        "\n",
        "Input: Graph $G$, positive integer $k$\n",
        "\n",
        "Property: $G$ has a set of mutually adjacent nodes.\n",
        "\n",
        "https://en.wikipedia.org/wiki/Clique_problem"
      ]
    },
    {
      "cell_type": "code",
      "metadata": {
        "colab": {
          "base_uri": "https://localhost:8080/"
        },
        "id": "QQDWim1w9649",
        "outputId": "446f9348-07b5-458a-f02a-e4e905df2795"
      },
      "source": [
        "import satx\n",
        "\n",
        "# Ths bits of the clique to search\n",
        "k = 3\n",
        "\n",
        "# Get the graph, and the dimension for the graph\n",
        "n, matrix = 5, [(1, 0), (0, 2), (1, 4), (2, 1), (4, 2), (3, 2)]\n",
        "\n",
        "# Ensure the problem can be represented\n",
        "satx.engine(bits=k.bit_length(), cnf_path='tmp.cnf')\n",
        "\n",
        "# Declare an integer of n-bits\n",
        "bits = satx.integer(bits=n)\n",
        "\n",
        "# The bits integer have \"bits\"-active bits, i.e, the clique has \"bits\"-elements\n",
        "assert sum(satx.switch(bits, i) for i in range(n)) == k\n",
        "\n",
        "# This entangles all elements that are joined together\n",
        "for i in range(n - 1):\n",
        "    for j in range(i + 1, n):\n",
        "        if (i, j) not in matrix and (j, i) not in matrix:\n",
        "            assert satx.switch(bits, i) + satx.switch(bits, j) <= 1\n",
        "\n",
        "if satx.satisfy('slime'):\n",
        "    print(k)\n",
        "    print(' '.join([str(i) for i in range(n) if not bits.binary[i]]))\n",
        "else:\n",
        "    print('Infeasible ...')"
      ],
      "execution_count": null,
      "outputs": [
        {
          "name": "stdout",
          "output_type": "stream",
          "text": [
            "3\n",
            "1 2 4\n"
          ]
        }
      ]
    },
    {
      "cell_type": "markdown",
      "metadata": {
        "id": "W9A_lLrn964_"
      },
      "source": [
        "# VERTEX COVER\n",
        "\n",
        "In the mathematical discipline of graph theory, a vertex cover (sometimes node cover) of a graph is a set of vertices that includes at least one endpoint of every edge of the graph. The problem of finding a minimum vertex cover is a classical optimization problem in computer science and is a typical example of an NP-hard optimization problem that has an approximation algorithm. Its decision version, the vertex cover problem, was one of Karp's 21 NP-complete problems and is therefore a classical NP-complete problem in computational complexity theory. Furthermore, the vertex cover problem is fixed-parameter tractable and a central problem in parameterized complexity theory.\n",
        "\n",
        "https://en.wikipedia.org/wiki/Vertex_cover"
      ]
    },
    {
      "cell_type": "code",
      "metadata": {
        "colab": {
          "base_uri": "https://localhost:8080/"
        },
        "id": "qaxFZxFL965A",
        "outputId": "ab6be7fc-2fda-4a19-a5b4-46f756a1b083"
      },
      "source": [
        "import satx\n",
        "\n",
        "# Get the graph and dimension, and the bits of the cover.\n",
        "n, graph, vertex, k = 5, [(1, 0), (0, 2), (1, 4), (2, 1), (4, 2), (3, 2)], [0, 1, 2, 3, 4], 3\n",
        "\n",
        "# Ensure the problem can be represented\n",
        "satx.engine(bits=n.bit_length() + 1, cnf_path='tmp.cnf')\n",
        "\n",
        "# An integer with n-bits to store the indexes for the cover\n",
        "index = satx.integer(bits=n)\n",
        "\n",
        "# This entangled the all possible covers\n",
        "for i, j in graph:\n",
        "    assert satx.switch(index, vertex.index(i), neg=True) + satx.switch(index, vertex.index(j), neg=True) >= 1\n",
        "\n",
        "# Ensure the cover has bits k\n",
        "assert sum(satx.switch(index, vertex.index(i), neg=True) for i in vertex) == k\n",
        "\n",
        "if satx.satisfy('slime'):\n",
        "    opt = sum(index.binary)\n",
        "    print('p bits {}'.format(opt))\n",
        "    print(' '.join([str(vertex[i]) for i in range(n) if index.binary[i]]))\n",
        "else:\n",
        "    print('Infeasible ...')"
      ],
      "execution_count": null,
      "outputs": [
        {
          "name": "stdout",
          "output_type": "stream",
          "text": [
            "p bits 3\n",
            "1 2 4\n"
          ]
        }
      ]
    },
    {
      "cell_type": "markdown",
      "metadata": {
        "id": "-Itdoe64965B"
      },
      "source": [
        "# MULTIDIMENSIONAL LATIN SQUARES\n",
        "\n",
        "In combinatorics and in experimental design, a Latin square is an n × n array filled with n different symbols, each occurring exactly once in each row and exactly once in each column.\n",
        "\n",
        "https://en.wikipedia.org/wiki/Latin_square"
      ]
    },
    {
      "cell_type": "code",
      "metadata": {
        "colab": {
          "base_uri": "https://localhost:8080/"
        },
        "id": "ZobMPYao965C",
        "outputId": "ac143817-b05b-4b66-9f94-b5b2afef40cb"
      },
      "source": [
        "import numpy as np\n",
        "import satx\n",
        "\n",
        "n = 6\n",
        "m = 3\n",
        "\n",
        "satx.engine(n.bit_length(), cnf_path='tmp.cnf')\n",
        "\n",
        "Y = satx.vector(size=n ** m)\n",
        "\n",
        "satx.apply_single(Y, lambda k: k < n)\n",
        "\n",
        "Y = np.reshape(Y, newshape=(m * [n]))\n",
        "\n",
        "for i in range(n):\n",
        "    satx.all_different(Y[i])\n",
        "    satx.all_different(Y.T[i])\n",
        "    for j in range(n):\n",
        "        satx.all_different(Y[i][j])\n",
        "        satx.all_different(Y.T[i][j])\n",
        "\n",
        "for idx in satx.hyper_loop(m - 1, n):\n",
        "    s = Y\n",
        "    for i in idx:\n",
        "        s = s[i]\n",
        "        satx.all_different(s)\n",
        "        satx.all_different(s.T)\n",
        "\n",
        "if satx.satisfy('slime'):\n",
        "    y = np.vectorize(int)(Y).reshape(m * [n])\n",
        "    print(y)\n",
        "else:\n",
        "    print('Infeasible ...')"
      ],
      "execution_count": null,
      "outputs": [
        {
          "name": "stdout",
          "output_type": "stream",
          "text": [
            "[[[1 3 4 0 2 5]\n",
            "  [0 5 3 4 1 2]\n",
            "  [3 2 5 1 0 4]\n",
            "  [5 1 2 3 4 0]\n",
            "  [4 0 1 2 5 3]\n",
            "  [2 4 0 5 3 1]]\n",
            "\n",
            " [[0 5 3 4 1 2]\n",
            "  [4 0 2 3 5 1]\n",
            "  [2 3 1 5 4 0]\n",
            "  [1 4 5 0 2 3]\n",
            "  [5 2 0 1 3 4]\n",
            "  [3 1 4 2 0 5]]\n",
            "\n",
            " [[4 2 5 1 3 0]\n",
            "  [3 1 4 2 0 5]\n",
            "  [1 4 2 0 5 3]\n",
            "  [2 3 0 5 1 4]\n",
            "  [0 5 3 4 2 1]\n",
            "  [5 0 1 3 4 2]]\n",
            "\n",
            " [[2 4 1 5 0 3]\n",
            "  [5 2 0 1 3 4]\n",
            "  [0 5 4 3 1 2]\n",
            "  [4 0 3 2 5 1]\n",
            "  [3 1 2 0 4 5]\n",
            "  [1 3 5 4 2 0]]\n",
            "\n",
            " [[5 0 2 3 4 1]\n",
            "  [1 4 5 0 2 3]\n",
            "  [4 1 0 2 3 5]\n",
            "  [3 5 1 4 0 2]\n",
            "  [2 3 4 5 1 0]\n",
            "  [0 2 3 1 5 4]]\n",
            "\n",
            " [[3 1 0 2 5 4]\n",
            "  [2 3 1 5 4 0]\n",
            "  [5 0 3 4 2 1]\n",
            "  [0 2 4 1 3 5]\n",
            "  [1 4 5 3 0 2]\n",
            "  [4 5 2 0 1 3]]]\n"
          ]
        }
      ]
    },
    {
      "cell_type": "markdown",
      "metadata": {
        "id": "bbdyVi1o965E"
      },
      "source": [
        "# TRAVELLING SALESMAN PROBLEM WITH HESS ALGORITHM (O. RIVEROS)\n",
        "\n",
        "https://independent.academia.edu/oarr\n",
        "\n",
        "The travelling salesman problem asks the following question: \"Given a list of cities and the distances between each pair of cities, what is the shortest possible route that visits each city and returns to the origin city?\" It is an NP-hard problem in combinatorial optimization, important in operations research and theoretical computer science.\n",
        "\n",
        "https://en.wikipedia.org/wiki/Travelling_salesman_problem\n",
        "\n",
        "SAT-X include a full implementation of the HESS black-box algorithm for more advanced examples see here https://github.com/maxtuno/hess"
      ]
    },
    {
      "cell_type": "code",
      "metadata": {
        "colab": {
          "base_uri": "https://localhost:8080/",
          "height": 263
        },
        "id": "3CHTjOaA965E",
        "outputId": "57a18fb9-f89b-44ee-fd1c-f2c616bce260"
      },
      "source": [
        "import satx\n",
        "import numpy as np\n",
        "import matplotlib.pyplot as plt\n",
        "\n",
        "n = 100\n",
        "data = np.random.logistic(size=(n, 2))\n",
        "seq = satx.hess_sequence(n, oracle=lambda seq: sum(np.linalg.norm(data[seq[i - 1]] - data[seq[i]]) for i in range(n)), fast=False)\n",
        "x, y = zip(*[data[i] for i in seq + [seq[0]]])\n",
        "plt.plot(x, y, 'k-')\n",
        "plt.plot(x, y, 'r.')\n",
        "plt.show()"
      ],
      "execution_count": null,
      "outputs": [
        {
          "data": {
            "image/png": "[encoded data removed]",
            "text/plain": [
              "<Figure size 432x288 with 1 Axes>"
            ]
          },
          "metadata": {
            "needs_background": "light"
          },
          "output_type": "display_data"
        }
      ]
    },
    {
      "cell_type": "code",
      "metadata": {
        "id": "3f8ACnp_JBHb",
        "outputId": "6699b42e-654f-4421-dfa0-330710305041"
      },
      "source": [
        "import numpy as np\n",
        "import satx\n",
        "import matplotlib.pyplot as plt\n",
        "\n",
        "\n",
        "n = 10\n",
        "\n",
        "data = np.random.randint(0, 10, size=(n, 2))\n",
        "matrix = np.zeros(shape=(n, n))\n",
        "for i in range(n):\n",
        "    for j in range(n):\n",
        "        matrix[i][j] = int(np.linalg.norm(data[i] - data[j]))\n",
        "\n",
        "opt = satx.oo() - 1\n",
        "while True:\n",
        "    satx.engine(int(sum(matrix.flatten())).bit_length() + 1, cnf_path='tmp.cnf')\n",
        "    x, y = satx.matrix_permutation(matrix.flatten(), n)\n",
        "    assert sum(y) < opt\n",
        "    if satx.satisfy('slime'):\n",
        "        opt = sum(y)\n",
        "        print(opt, x, y)\n",
        "\n",
        "        a, b = zip(*[data[i.value] for i in x + [x[0]]])\n",
        "        plt.plot(a, b, 'ro')\n",
        "        plt.plot(a, b, 'k-')\n",
        "        plt.show('tsp.png')\n",
        "        plt.close()\n",
        "\n",
        "        satx.clear(x)\n",
        "        satx.clear(y)\n",
        "    else:\n",
        "        break"
      ],
      "execution_count": null,
      "outputs": [
        {
          "name": "stdout",
          "output_type": "stream",
          "text": [
            "45 [1, 6, 9, 5, 4, 3, 7, 0, 2, 8] [3, 3, 5, 2, 5, 9, 4, 5, 6, 3]\n"
          ]
        },
        {
          "data": {
            "image/png": "[encoded data removed]",
            "text/plain": [
              "<Figure size 432x288 with 1 Axes>"
            ]
          },
          "metadata": {
            "needs_background": "light"
          },
          "output_type": "display_data"
        },
        {
          "name": "stdout",
          "output_type": "stream",
          "text": [
            "43 [8, 9, 2, 1, 3, 7, 6, 5, 4, 0] [2, 4, 5, 6, 9, 2, 5, 2, 4, 4]\n"
          ]
        },
        {
          "data": {
            "image/png": "[encoded data removed]",
            "text/plain": [
              "<Figure size 432x288 with 1 Axes>"
            ]
          },
          "metadata": {
            "needs_background": "light"
          },
          "output_type": "display_data"
        },
        {
          "name": "stdout",
          "output_type": "stream",
          "text": [
            "42 [5, 6, 2, 3, 7, 8, 0, 1, 9, 4] [5, 2, 9, 9, 4, 4, 1, 1, 5, 2]\n"
          ]
        },
        {
          "data": {
            "image/png": "[encoded data removed]",
            "text/plain": [
              "<Figure size 432x288 with 1 Axes>"
            ]
          },
          "metadata": {
            "needs_background": "light"
          },
          "output_type": "display_data"
        },
        {
          "name": "stdout",
          "output_type": "stream",
          "text": [
            "40 [2, 4, 0, 8, 3, 5, 6, 7, 1, 9] [5, 4, 4, 9, 3, 5, 2, 3, 1, 4]\n"
          ]
        },
        {
          "data": {
            "image/png": "[encoded data removed]",
            "text/plain": [
              "<Figure size 432x288 with 1 Axes>"
            ]
          },
          "metadata": {
            "needs_background": "light"
          },
          "output_type": "display_data"
        },
        {
          "name": "stdout",
          "output_type": "stream",
          "text": [
            "36 [9, 2, 6, 8, 1, 4, 3, 5, 0, 7] [4, 2, 5, 3, 4, 5, 3, 4, 4, 2]\n"
          ]
        },
        {
          "data": {
            "image/png": "[encoded data removed]",
            "text/plain": [
              "<Figure size 432x288 with 1 Axes>"
            ]
          },
          "metadata": {
            "needs_background": "light"
          },
          "output_type": "display_data"
        },
        {
          "name": "stdout",
          "output_type": "stream",
          "text": [
            "32 [7, 6, 1, 3, 5, 4, 0, 8, 9, 2] [2, 3, 6, 3, 2, 4, 4, 2, 4, 2]\n"
          ]
        },
        {
          "data": {
            "image/png": "[encoded data removed]",
            "text/plain": [
              "<Figure size 432x288 with 1 Axes>"
            ]
          },
          "metadata": {
            "needs_background": "light"
          },
          "output_type": "display_data"
        },
        {
          "name": "stdout",
          "output_type": "stream",
          "text": [
            "31 [5, 3, 4, 1, 6, 2, 7, 8, 9, 0] [3, 5, 4, 3, 2, 2, 4, 2, 2, 4]\n"
          ]
        },
        {
          "data": {
            "image/png": "[encoded data removed]",
            "text/plain": [
              "<Figure size 432x288 with 1 Axes>"
            ]
          },
          "metadata": {
            "needs_background": "light"
          },
          "output_type": "display_data"
        },
        {
          "name": "stdout",
          "output_type": "stream",
          "text": [
            "27 [6, 2, 7, 8, 9, 1, 0, 5, 3, 4] [2, 2, 4, 2, 1, 1, 4, 3, 5, 3]\n"
          ]
        },
        {
          "data": {
            "image/png": "[encoded data removed]",
            "text/plain": [
              "<Figure size 432x288 with 1 Axes>"
            ]
          },
          "metadata": {
            "needs_background": "light"
          },
          "output_type": "display_data"
        },
        {
          "name": "stdout",
          "output_type": "stream",
          "text": [
            "25 [4, 6, 2, 7, 8, 9, 1, 0, 3, 5] [3, 2, 2, 4, 2, 1, 1, 5, 3, 2]\n"
          ]
        },
        {
          "data": {
            "image/png": "[encoded data removed]",
            "text/plain": [
              "<Figure size 432x288 with 1 Axes>"
            ]
          },
          "metadata": {
            "needs_background": "light"
          },
          "output_type": "display_data"
        }
      ]
    },
    {
      "cell_type": "markdown",
      "metadata": {
        "id": "3CaSxvbE965I"
      },
      "source": [
        "# MAGIC SQUARE\n",
        "\n",
        "\n",
        "In recreational mathematics and combinatorial design, a magic square is a $n\\times n$ square grid (where n is the number of cells on each side) filled with distinct positive integers in the range \n",
        "${1,2,...,n^{2}}$ such that each cell contains a different integer and the sum of the integers in each row, column and diagonal is equal.\n",
        "\n",
        "https://en.wikipedia.org/wiki/Magic_square"
      ]
    },
    {
      "cell_type": "code",
      "metadata": {
        "colab": {
          "base_uri": "https://localhost:8080/"
        },
        "id": "AyWeR36j965I",
        "outputId": "943a5c1c-1f74-44c4-9bad-46c6ce29f797"
      },
      "source": [
        "import satx\n",
        "import numpy as np\n",
        "\n",
        "n = 3\n",
        "\n",
        "satx.engine(5, cnf_path='tmp.cnf')\n",
        "\n",
        "c = satx.integer()\n",
        "\n",
        "xs = satx.matrix(dimensions=(n, n))\n",
        "\n",
        "satx.apply_single(satx.flatten(xs), lambda x: x > 0)\n",
        "satx.all_different(satx.flatten(xs))\n",
        "\n",
        "for i in range(n):\n",
        "    assert sum(xs[i][j] for j in range(n)) == c\n",
        "for j in range(n):\n",
        "    assert sum(xs[i][j] for i in range(n)) == c\n",
        "\n",
        "assert sum(xs[i][i] for i in range(n)) == c\n",
        "assert sum(xs[i][n - 1 - i] for i in range(n)) == c\n",
        "\n",
        "if satx.satisfy('slime'):\n",
        "    print(c)\n",
        "    print(np.vectorize(int)(xs))\n",
        "else:\n",
        "    print('Infeasible ...')"
      ],
      "execution_count": null,
      "outputs": [
        {
          "name": "stdout",
          "output_type": "stream",
          "text": [
            "18\n",
            "[[ 7  9  2]\n",
            " [ 1  6 11]\n",
            " [10  3  5]]\n"
          ]
        }
      ]
    },
    {
      "cell_type": "markdown",
      "metadata": {
        "id": "lEaH-Epz965K"
      },
      "source": [
        "# SCHUR TRIPLES PROBLEM:\n",
        "\n",
        "Input: list of 3N distinct positive integers\n",
        "\n",
        "Question: Is there a partition of the list into N triples $(a_i, b_i, c_i)$ such that $a_i+b_i=c_i$\n",
        "\n",
        "The condition that all numbers must be distinct makes the problem very interesting and McDiarmid calls it a surprisingly troublesome.\n",
        "\n",
        "https://cstheory.stackexchange.com/questions/16253/list-of-strongly-np-hard-problems-with-numerical-data"
      ]
    },
    {
      "cell_type": "code",
      "metadata": {
        "colab": {
          "base_uri": "https://localhost:8080/"
        },
        "id": "Jd9xBJiE965K",
        "outputId": "0d42ee84-3c69-4d06-f8d4-fcecbea9e3fd"
      },
      "source": [
        "import satx\n",
        "import numpy as np\n",
        "\n",
        "bits = 7\n",
        "size = 3 * 10\n",
        "triplets = []\n",
        "while len(triplets) < size:\n",
        "    a = np.random.randint(1, 2 ** bits)\n",
        "    b = np.random.randint(1, 2 ** bits)\n",
        "    if a != b and a not in triplets and b not in triplets and a + b not in triplets:\n",
        "        triplets += [a, b, a + b]\n",
        "triplets.sort()\n",
        "print(triplets)\n",
        "satx.engine(bits=max(triplets).bit_length(), cnf_path='tmp.cnf')\n",
        "xs, ys = satx.permutations(triplets, size)\n",
        "for i in range(0, size, 3):\n",
        "    assert ys[i] + ys[i + 1] == ys[i + 2]\n",
        "if satx.satisfy('slime'):\n",
        "    for i in range(0, size, 3):\n",
        "        print('{} == {} + {}'.format(ys[i + 2], ys[i], ys[i + 1]))\n",
        "else:\n",
        "    print('Infeasible ...')"
      ],
      "execution_count": null,
      "outputs": [
        {
          "name": "stdout",
          "output_type": "stream",
          "text": [
            "[2, 7, 22, 24, 26, 27, 29, 34, 48, 56, 62, 66, 75, 76, 77, 81, 85, 92, 98, 100, 102, 110, 120, 124, 139, 141, 168, 176, 191, 194]\n",
            "194 == 102 + 92\n",
            "176 == 100 + 76\n",
            "141 == 66 + 75\n",
            "34 == 27 + 7\n",
            "191 == 81 + 110\n",
            "85 == 29 + 56\n",
            "124 == 26 + 98\n",
            "24 == 2 + 22\n",
            "168 == 120 + 48\n",
            "139 == 77 + 62\n"
          ]
        }
      ]
    },
    {
      "cell_type": "markdown",
      "metadata": {
        "id": "ehRx6Mud965M"
      },
      "source": [
        "# SUBSET SUM PROBLEM\n",
        "\n",
        "In this problem, there is a given set with some integer elements. And another some value is also provided, we have to find a subset of the given set whose sum is the same as the given sum value.\n",
        "\n",
        "https://en.wikipedia.org/wiki/Subset_sum_problem"
      ]
    },
    {
      "cell_type": "code",
      "metadata": {
        "colab": {
          "base_uri": "https://localhost:8080/"
        },
        "id": "l1u8ka7t965M",
        "outputId": "8f6d0492-cbfa-46c7-8161-b94b559f9caf"
      },
      "source": [
        "import satx\n",
        "import numpy as np\n",
        "\n",
        "universe = np.random.randint(1, 1000, size=32)\n",
        "t = np.random.randint(min(universe), sum(universe))\n",
        "\n",
        "print(t, universe)\n",
        "\n",
        "satx.engine(t.bit_length(), cnf_path='tmp.cnf')\n",
        "\n",
        "bits, subset = satx.subsets(universe)\n",
        "\n",
        "assert sum(subset) == t\n",
        "\n",
        "if satx.satisfy('slime'):\n",
        "    solution = [universe[i] for i in range(len(universe)) if bits.binary[i]]\n",
        "    print(sum(solution), solution)\n",
        "else:\n",
        "    print('Infeasible ...')"
      ],
      "execution_count": null,
      "outputs": [
        {
          "name": "stdout",
          "output_type": "stream",
          "text": [
            "5790 [664 618 265  17 752 664 700 768  42 576 715 121 662 634 230 729  29 244\n",
            " 397  45 159 783 106 516  20 384 313 393 582  51 168 529]\n",
            "5790 [265, 664, 700, 42, 576, 715, 634, 729, 397, 159, 516, 393]\n"
          ]
        }
      ]
    },
    {
      "cell_type": "markdown",
      "metadata": {
        "id": "daXn5SYi965Q"
      },
      "source": [
        "# PERMUTATION RECONSTRUCTION FROM DIFFERENCES\n",
        "\n",
        "https://arxiv.org/pdf/1410.6396.pdf"
      ]
    },
    {
      "cell_type": "code",
      "metadata": {
        "colab": {
          "base_uri": "https://localhost:8080/",
          "height": 280
        },
        "id": "YMKxvACO965Q",
        "outputId": "f3675001-a4d0-4add-f12f-316e14736041"
      },
      "source": [
        "import satx\n",
        "import numpy as np\n",
        "import matplotlib.pyplot as plt\n",
        "\n",
        "def gen_instance(n):\n",
        "    import random\n",
        "    y = list(range(1, n + 1))\n",
        "    random.shuffle(y)\n",
        "    return [abs(y[i + 1] - y[i]) for i in range(n - 1)]\n",
        "\n",
        "\n",
        "import time\n",
        "start = time.time()\n",
        "times = []\n",
        "sizes = []\n",
        "for n in range(1, 30):\n",
        "    diffs = gen_instance(n)\n",
        "    ini = time.time()\n",
        "    satx.engine(n.bit_length() + 1, cnf_path='tmp.cnf')\n",
        "    x = satx.vector(size=n)\n",
        "    satx.all_different(x)\n",
        "    satx.apply_single(x, lambda a: 1 <= a <= n)\n",
        "    for i in range(n - 1):\n",
        "        assert satx.index(i, diffs) == satx.one_of([x[i + 1] - x[i], x[i] - x[i + 1]])\n",
        "    if satx.satisfy('slime'):\n",
        "        end = time.time() - ini\n",
        "        xx = [abs(x[i + 1] - x[i]) for i in range(n - 1)]\n",
        "        if xx == diffs:\n",
        "            sizes.append(n)\n",
        "            times.append(end)\n",
        "        else:\n",
        "            raise Exception('Error!')\n",
        "    else:\n",
        "        raise Exception('Error!')\n",
        "end = time.time() - start\n",
        "plt.title('TIME {}(s)'.format(end))\n",
        "plt.plot(sizes, times, 'k-')\n",
        "plt.plot(sizes, times, 'r.')\n",
        "plt.show()\n",
        "plt.close()"
      ],
      "execution_count": null,
      "outputs": [
        {
          "data": {
            "image/png": "[encoded data removed]",
            "text/plain": [
              "<Figure size 432x288 with 1 Axes>"
            ]
          },
          "metadata": {
            "needs_background": "light"
          },
          "output_type": "display_data"
        }
      ]
    },
    {
      "cell_type": "markdown",
      "metadata": {
        "id": "bJwHMwDc965S"
      },
      "source": [
        "# HAMILTONIAN CYCLE PROBLEM\n",
        "\n",
        "In the mathematical field of graph theory, a Hamiltonian path (or traceable path) is a path in an undirected or directed graph that visits each vertex exactly once. A Hamiltonian cycle (or Hamiltonian circuit) is a Hamiltonian path that is a cycle. Determining whether such paths and cycles exist in graphs is the Hamiltonian path problem, which is NP-complete.\n",
        "\n",
        "https://en.wikipedia.org/wiki/Hamiltonian_path"
      ]
    },
    {
      "cell_type": "code",
      "metadata": {
        "colab": {
          "base_uri": "https://localhost:8080/"
        },
        "id": "UbxWGgHu965S",
        "outputId": "c4a43604-2d9d-4565-aecc-a633ab519d85"
      },
      "source": [
        "import sys\n",
        "\n",
        "import satx\n",
        "import numpy as np\n",
        "\n",
        "\n",
        "n = 10\n",
        "M = np.random.randint(0, 2, size=(n, n))\n",
        "\n",
        "print(M)\n",
        "\n",
        "satx.engine((n ** 2).bit_length(), cnf_path='tmp.cnf')\n",
        "ids, elements = satx.matrix_permutation((1 - M).flatten(), n)\n",
        "\n",
        "assert sum(elements) == 0\n",
        "\n",
        "if satx.satisfy('slime'):\n",
        "    for i in ids:\n",
        "        for j in ids:\n",
        "            sys.stdout.write('{} '.format(M[i.value][j.value]))\n",
        "        sys.stdout.write('\\n') \n",
        "    sys.stdout.write('\\n')\n",
        "else:\n",
        "    print('Infeasible ...')"
      ],
      "execution_count": null,
      "outputs": [
        {
          "name": "stdout",
          "output_type": "stream",
          "text": [
            "[[0 0 1 0 0 1 0 0 0 1]\n",
            " [0 0 1 1 0 1 1 0 1 1]\n",
            " [1 1 1 1 1 1 0 0 0 0]\n",
            " [1 1 1 1 0 1 1 1 1 0]\n",
            " [0 1 1 1 1 0 1 0 1 0]\n",
            " [0 0 0 1 1 1 0 1 1 0]\n",
            " [0 0 0 1 1 0 0 1 0 1]\n",
            " [0 1 0 1 0 0 0 0 1 1]\n",
            " [0 1 1 0 1 1 0 1 1 1]\n",
            " [1 1 0 0 0 0 1 1 0 1]]\n",
            "0 1 0 0 1 0 0 1 1 0 \n",
            "1 1 1 1 0 1 1 1 0 1 \n",
            "0 0 0 1 0 0 1 0 1 0 \n",
            "0 1 1 1 1 0 1 0 0 1 \n",
            "1 1 0 1 1 1 0 0 0 1 \n",
            "0 0 0 1 1 1 1 1 1 1 \n",
            "0 1 0 0 1 1 1 1 0 0 \n",
            "0 1 0 0 0 1 0 0 1 1 \n",
            "1 0 1 0 0 0 0 1 1 1 \n",
            "1 1 0 1 0 1 1 0 1 0 \n",
            "\n"
          ]
        }
      ]
    },
    {
      "cell_type": "markdown",
      "metadata": {
        "id": "4a2Y3ykM965U"
      },
      "source": [
        "# BIN PACKING PROBLEM\n",
        "\n",
        "In the bin packing problem, items of different volumes must be packed into a finite number of bins or containers each of a fixed given volume in a way that minimizes the number of bins used. In computational complexity theory, it is a combinatorial NP-hard problem. The decision problem (deciding if items will fit into a specified number of bins) is NP-complete.\n",
        "\n",
        "https://en.wikipedia.org/wiki/Bin_packing_problem"
      ]
    },
    {
      "cell_type": "code",
      "metadata": {
        "colab": {
          "base_uri": "https://localhost:8080/"
        },
        "id": "udwwcxlG965U",
        "outputId": "8e7251d2-eff8-4395-e9c6-a1c9b374ff6c"
      },
      "source": [
        "import satx\n",
        "import numpy as np\n",
        "\n",
        "capacity = 50\n",
        "size = 50\n",
        "elements = sorted([np.random.randint(1, capacity // 2 - 1) for _ in range(size)], reverse=True)\n",
        "print(capacity)\n",
        "print(elements)\n",
        "bins = int(np.ceil(sum(elements) / capacity))\n",
        "while True:\n",
        "    satx.engine(bits=capacity.bit_length() + 1, cnf_path='tmp.cnf')\n",
        "    slots = satx.vector(bits=len(elements), size=bins)\n",
        "    for i in range(len(elements)):\n",
        "        assert sum(satx.switch(slot, i) for slot in slots) == 1\n",
        "    for slot in slots:\n",
        "        assert sum(satx.switch(slot, i) * elements[i] for i in range(len(elements))) <= capacity\n",
        "    if satx.satisfy('slime'):\n",
        "        print('Solution for {} bins...'.format(bins))\n",
        "        for slot in slots:\n",
        "            print(''.join(['_' if boolean else '#' for boolean in slot.binary]))\n",
        "        for slot in slots:\n",
        "            sub = [item for i, item in enumerate(elements) if not slot.binary[i]]\n",
        "            print(sum(sub), sub)\n",
        "        break\n",
        "    else:\n",
        "        print('No solution for {} bins...'.format(bins))\n",
        "        bins += 1"
      ],
      "execution_count": null,
      "outputs": [
        {
          "name": "stdout",
          "output_type": "stream",
          "text": [
            "50\n",
            "[23, 23, 20, 20, 20, 19, 19, 18, 18, 18, 18, 17, 17, 17, 17, 16, 16, 16, 16, 16, 15, 15, 15, 15, 14, 14, 13, 13, 12, 12, 10, 10, 9, 9, 9, 8, 6, 6, 5, 5, 5, 4, 4, 4, 2, 2, 2, 2, 1, 1]\n",
            "Solution for 13 bins...\n",
            "_________#____#_____#_____________________________\n",
            "_______________#_#_#______________________________\n",
            "_#_#______________________________________________\n",
            "_____________#______________##___#________________\n",
            "______##__________________#_______________________\n",
            "____________#___________________#_______#____#____\n",
            "________#_________#_____#_________________________\n",
            "__________#________________#__#___#_______________\n",
            "_______________________#____________###___##____#_\n",
            "#_______________#______________________#______##__\n",
            "__#_#______________________________#______________\n",
            "_____#___________________#_____#_________#__#____#\n",
            "___________#_________##___________________________\n",
            "50 [18, 17, 15]\n",
            "48 [16, 16, 16]\n",
            "43 [23, 20]\n",
            "50 [17, 12, 12, 9]\n",
            "50 [19, 18, 13]\n",
            "33 [17, 9, 5, 2]\n",
            "48 [18, 16, 14]\n",
            "50 [18, 13, 10, 9]\n",
            "41 [15, 6, 6, 5, 4, 4, 1]\n",
            "48 [23, 16, 5, 2, 2]\n",
            "48 [20, 20, 8]\n",
            "50 [19, 14, 10, 4, 2, 1]\n",
            "47 [17, 15, 15]\n"
          ]
        }
      ]
    },
    {
      "cell_type": "markdown",
      "metadata": {
        "id": "oI6JNjwq965W"
      },
      "source": [
        "# ZERO-ONE INTEGER PROGRAMMING DEFINITION\n",
        "\n",
        "Zero-one integer programming (which can also be written as 0-1 integer programming) is a mathematical method of using a series of binary, yes (1) and no (0) answers to arrive at a solution when there are two mutually exclusive options.\n",
        "\n",
        "https://en.wikipedia.org/wiki/Integer_programming"
      ]
    },
    {
      "cell_type": "code",
      "metadata": {
        "colab": {
          "base_uri": "https://localhost:8080/"
        },
        "id": "UBSuy8E1965W",
        "outputId": "b7b186bc-922d-4ebd-f295-e250e3b74fed"
      },
      "source": [
        "import satx\n",
        "import numpy as np\n",
        "\n",
        "n, m = 10, 5\n",
        "cc = np.random.randint(0, 1000, size=(n, m))\n",
        "d = np.dot(cc, np.random.randint(0, 2, size=(m,)))\n",
        "print(cc)\n",
        "print(d)\n",
        "satx.engine(bits=int(np.sum(cc)).bit_length(), cnf_path='tmp.cnf')\n",
        "xs = satx.vector(size=m)\n",
        "satx.all_binaries(xs)\n",
        "assert (np.dot(cc, xs) == d).all()\n",
        "if satx.satisfy('slime'):\n",
        "    print(xs)\n",
        "    print('Proof:')\n",
        "    print(np.dot(cc, xs))\n",
        "else:\n",
        "    print('Infeasible...')"
      ],
      "execution_count": null,
      "outputs": [
        {
          "name": "stdout",
          "output_type": "stream",
          "text": [
            "[[645 928 346 970 143]\n",
            " [497 344 180 168 949]\n",
            " [587 918 512 895 966]\n",
            " [  6 804 691 608 399]\n",
            " [831 654 275 651 469]\n",
            " [181  98 232 938 547]\n",
            " [369 242 578 467 492]\n",
            " [160 368   6 106 803]\n",
            " [627 417 655 884  29]\n",
            " [817 162 936 469 434]]\n",
            "[ 489 1129 1478 1090  744  779 1070  809  684 1370]\n",
            "[0, 0, 1, 0, 1]\n",
            "Proof:\n",
            "[489 1129 1478 1090 744 779 1070 809 684 1370]\n"
          ]
        }
      ]
    },
    {
      "cell_type": "markdown",
      "metadata": {
        "id": "Q2UGOuKW965Y"
      },
      "source": [
        "# n-QUEENS COMPLETION PROBLEM\n",
        "\n",
        "The n- Queens Completion problem is a variant, dating to 1850, in which some queens are already placed and the solver is asked to place the rest, if possi- ble. ... The n-Queens problem is to place n chess queens on an n by n chessboard so that no two queens are on the same row, column or diagonal.\n",
        "\n",
        "https://www.ijcai.org/Proceedings/2018/0794.pdf"
      ]
    },
    {
      "cell_type": "code",
      "metadata": {
        "colab": {
          "base_uri": "https://localhost:8080/"
        },
        "id": "rECfC3zy965Y",
        "outputId": "b0dd0557-cb34-448c-8adc-b93014c652f6"
      },
      "source": [
        "import satx\n",
        "\n",
        "\n",
        "def completion(n, m, seed):\n",
        "    import random\n",
        "    \"\"\"\n",
        "    http://www.csplib.org/Problems/prob079/data/queens-gen-fast.py.html\n",
        "    \"\"\"\n",
        "    random.seed(seed)\n",
        "\n",
        "    d1 = [0 for _ in range(2 * n - 1)]\n",
        "    d2 = [0 for _ in range(2 * n - 1)]\n",
        "\n",
        "    valid_rows = [i for i in range(n)]\n",
        "    valid_cols = [j for j in range(n)]\n",
        "\n",
        "    def no_attack(r, c):\n",
        "        return d1[r + c] == 0 and d2[r - c + n - 1] == 0\n",
        "\n",
        "    pc = []\n",
        "    queens_left = n\n",
        "\n",
        "    for attempt in range(n * n):\n",
        "        i = random.randrange(queens_left)\n",
        "        j = random.randrange(queens_left)\n",
        "        r = valid_rows[i]\n",
        "        c = valid_cols[j]\n",
        "        if no_attack(r, c):\n",
        "            pc.append([r, c])\n",
        "            d1[r + c] = 1\n",
        "            d2[r - c + n - 1] = 1\n",
        "            valid_rows[i] = valid_rows[queens_left - 1]\n",
        "            valid_cols[j] = valid_cols[queens_left - 1]\n",
        "            queens_left -= 1\n",
        "            if len(pc) == m:\n",
        "                return [[x + 1, y + 1] for x, y in pc]\n",
        "\n",
        "def show(pc):\n",
        "    table = ''\n",
        "    for i in range(1, n + 1):\n",
        "        table += ''\n",
        "        for j in range(1, n + 1):\n",
        "            if [i, j] not in pc:\n",
        "                table += '. '\n",
        "            else:\n",
        "                table += 'Q '\n",
        "        table += '\\n'\n",
        "    print(table)\n",
        "    print('# seed = {}'.format(seed))\n",
        "    \n",
        "n, m, seed = 30, 15, 0\n",
        "placed_queens = completion(n, m, seed)\n",
        "show(placed_queens)\n",
        "satx.engine(bits=n.bit_length() + 1, cnf_path='tmp.cnf')\n",
        "qs = satx.vector(size=n)\n",
        "for (a, b) in placed_queens:\n",
        "    assert qs[a - 1] == b - 1\n",
        "satx.apply_single(qs, lambda x: x < n)\n",
        "satx.apply_dual(qs, lambda x, y: x != y)\n",
        "satx.apply_dual([qs[i] + i for i in range(n)], lambda x, y: x != y)\n",
        "satx.apply_dual([qs[i] - i for i in range(n)], lambda x, y: x != y)\n",
        "if satx.satisfy('slime'):\n",
        "    for i in range(n):\n",
        "        print(''.join(['Q ' if qs[i] == j else '. ' for j in range(n)]))\n",
        "    print('')\n",
        "else:\n",
        "    print('Infeasible ...')"
      ],
      "execution_count": null,
      "outputs": [
        {
          "name": "stdout",
          "output_type": "stream",
          "text": [
            ". . . . . . . . . . . . . . . . . . . . . . . . . . . . . . \n",
            ". . . . . . . . . . . . . . . . . . . . . . . . . . . . . . \n",
            ". . . . . . . . . . . . . . . . . . . . . . . . . . . . . . \n",
            ". . Q . . . . . . . . . . . . . . . . . . . . . . . . . . . \n",
            ". . . . . . . . . Q . . . . . . . . . . . . . . . . . . . . \n",
            ". . . . . . . . . . . . . . . . . . . . . . . . . . . . . . \n",
            ". . . . . . . . . . . . . . . . . . . . . . . . . . Q . . . \n",
            ". . . . . . . . . . . . . . . . . . . . . . . . . . . . . . \n",
            ". . . . . . . . . . . . . . . . Q . . . . . . . . . . . . . \n",
            ". . . . . . . . . . . . . . . . . . . . . . . . . . . . . . \n",
            ". . . . . . . . . . . . . . . . . . . . . . . . . . . . . . \n",
            ". . . . . . . . . . . . . . . . . . Q . . . . . . . . . . . \n",
            ". . . . . . . . . . . . . . . . . . . . . . . . . . . . . . \n",
            ". Q . . . . . . . . . . . . . . . . . . . . . . . . . . . . \n",
            ". . . . . . . . . . . . . . . . . . . . . . . . . . . . . . \n",
            ". . . . . . . . . . . . . . . . . . . . . . . . . . . . . Q \n",
            ". . . . . . . . . . . . . . . . . . . . . . . . . . . . . . \n",
            ". . . . . . . . . . . . . . . . . . . Q . . . . . . . . . . \n",
            ". . . . . . . . . . . . . . . . . . . . . . . . . . . . . . \n",
            ". . . . . . . . Q . . . . . . . . . . . . . . . . . . . . . \n",
            ". . . . . . . . . . . Q . . . . . . . . . . . . . . . . . . \n",
            ". . . . . . . . . . . . . . . . . . . . . . Q . . . . . . . \n",
            ". . . Q . . . . . . . . . . . . . . . . . . . . . . . . . . \n",
            ". . . . . . . . . . . . . . . Q . . . . . . . . . . . . . . \n",
            ". . . . . . . . . . . . . . . . . . . . . . . . . . . . Q . \n",
            ". . . . . . . . . . . . . . . . . . . . . . . . . . . . . . \n",
            ". . . . . . . . . . . . . . . . . . . . . . . . . . . . . . \n",
            ". . . . . . . . . . . . Q . . . . . . . . . . . . . . . . . \n",
            ". . . . . . . . . . . . . . . . . . . . . . . . . . . . . . \n",
            ". . . . . . . . . . . . . . . . . . . . . . . . . . . . . . \n",
            "\n",
            "# seed = 0\n",
            ". . . . . . Q . . . . . . . . . . . . . . . . . . . . . . . \n",
            ". . . . . . . . . . . . . . . . . . . . Q . . . . . . . . . \n",
            ". . . . . . . . . . . . . Q . . . . . . . . . . . . . . . . \n",
            ". . Q . . . . . . . . . . . . . . . . . . . . . . . . . . . \n",
            ". . . . . . . . . Q . . . . . . . . . . . . . . . . . . . . \n",
            ". . . . . . . . . . . . . . . . . Q . . . . . . . . . . . . \n",
            ". . . . . . . . . . . . . . . . . . . . . . . . . . Q . . . \n",
            ". . . . . . . . . . Q . . . . . . . . . . . . . . . . . . . \n",
            ". . . . . . . . . . . . . . . . Q . . . . . . . . . . . . . \n",
            ". . . . . . . . . . . . . . . . . . . . . . . . Q . . . . . \n",
            ". . . . . . . . . . . . . . . . . . . . . . . . . . . Q . . \n",
            ". . . . . . . . . . . . . . . . . . Q . . . . . . . . . . . \n",
            ". . . . . . . Q . . . . . . . . . . . . . . . . . . . . . . \n",
            ". Q . . . . . . . . . . . . . . . . . . . . . . . . . . . . \n",
            ". . . . . . . . . . . . . . Q . . . . . . . . . . . . . . . \n",
            ". . . . . . . . . . . . . . . . . . . . . . . . . . . . . Q \n",
            ". . . . . . . . . . . . . . . . . . . . . . . . . Q . . . . \n",
            ". . . . . . . . . . . . . . . . . . . Q . . . . . . . . . . \n",
            "Q . . . . . . . . . . . . . . . . . . . . . . . . . . . . . \n",
            ". . . . . . . . Q . . . . . . . . . . . . . . . . . . . . . \n",
            ". . . . . . . . . . . Q . . . . . . . . . . . . . . . . . . \n",
            ". . . . . . . . . . . . . . . . . . . . . . Q . . . . . . . \n",
            ". . . Q . . . . . . . . . . . . . . . . . . . . . . . . . . \n",
            ". . . . . . . . . . . . . . . Q . . . . . . . . . . . . . . \n",
            ". . . . . . . . . . . . . . . . . . . . . . . . . . . . Q . \n",
            ". . . . . . . . . . . . . . . . . . . . . . . Q . . . . . . \n",
            ". . . . Q . . . . . . . . . . . . . . . . . . . . . . . . . \n",
            ". . . . . . . . . . . . Q . . . . . . . . . . . . . . . . . \n",
            ". . . . . . . . . . . . . . . . . . . . . Q . . . . . . . . \n",
            ". . . . . Q . . . . . . . . . . . . . . . . . . . . . . . . \n",
            "\n"
          ]
        }
      ]
    },
    {
      "cell_type": "markdown",
      "metadata": {
        "id": "QJiSiXi_DyFL"
      },
      "source": [
        "# PARTITION PROBLEM\n",
        "\n",
        "n number theory and computer science, the partition problem, or number partitioning, is the task of deciding whether a given multiset $S$ of positive integers can be partitioned into two subsets $S_1$ and $S_2$ such that the sum of the numbers in $S_1$ equals the sum of the numbers in $S_2$.\n",
        "\n",
        "https://en.wikipedia.org/wiki/Partition_problem"
      ]
    },
    {
      "cell_type": "code",
      "metadata": {
        "colab": {
          "base_uri": "https://localhost:8080/"
        },
        "id": "yZlJB_TdDwyc",
        "outputId": "8784d3d9-6301-4ff3-9b05-9bcaa2a65a14"
      },
      "source": [
        "import numpy as np\n",
        "import satx\n",
        "\n",
        "size = 20\n",
        "\n",
        "data = np.random.randint(1000, size=size)\n",
        "\n",
        "print(data)\n",
        "\n",
        "satx.engine(int(sum(data)).bit_length(), cnf_path='tmp.cnf')\n",
        "\n",
        "T, sub, com = satx.subsets(data, complement=True)\n",
        "\n",
        "assert sum(sub) == sum(com)\n",
        "\n",
        "if satx.satisfy('slime'):\n",
        "    sub_ = [data[i] for i in range(size) if T.binary[i]]\n",
        "    com_ = [data[i] for i in range(size) if not T.binary[i]]\n",
        "    print(sum(sub_), sub_)\n",
        "    print(sum(com_), com_)\n",
        "else:\n",
        "    print('Infeasible ...')"
      ],
      "execution_count": null,
      "outputs": [
        {
          "name": "stdout",
          "output_type": "stream",
          "text": [
            "[367 909 860 217 562 205 337  43 633 679 965 528 789 709 448 502 209 775\n",
            " 713 650]\n",
            "5550 [367, 217, 562, 337, 965, 528, 709, 502, 713, 650]\n",
            "5550 [909, 860, 205, 43, 633, 679, 789, 448, 209, 775]\n"
          ]
        }
      ]
    },
    {
      "cell_type": "markdown",
      "metadata": {
        "id": "zaw48EMAikEp"
      },
      "source": [
        "# SUDOKU \n",
        "\n",
        "is a logic-based, combinatorial number-placement puzzle. The objective is to fill a 9×9 grid with digits so that each column, each row, and each of the nine 3×3 subgrids that compose the grid (also called \"boxes\", \"blocks\", or \"regions\") contain all of the digits from 1 to 9. The puzzle setter provides a partially completed grid, which for a well-posed puzzle has a single solution.\n",
        "\n",
        "Completed games are always an example of a Latin square which include an additional constraint on the contents of individual regions. For example, the same single integer may not appear twice in the same row, column, or any of the nine 3×3 subregions of the 9×9 playing board.\n",
        "\n",
        "https://en.wikipedia.org/wiki/Sudoku"
      ]
    },
    {
      "cell_type": "code",
      "metadata": {
        "colab": {
          "base_uri": "https://localhost:8080/"
        },
        "id": "Xv2NJptiijYi",
        "outputId": "35309dc1-72de-4aef-f28b-91b2e5a017aa"
      },
      "source": [
        "import numpy as np\n",
        "import satx\n",
        "\n",
        "\n",
        "def expand_line(line):\n",
        "    return line[0] + line[5:9].join([line[1:5] * (base - 1)] * base) + line[9:13]\n",
        "\n",
        "\n",
        "def show(board):\n",
        "    import string\n",
        "    line0 = expand_line('╔═══╤═══╦═══╗')\n",
        "    line1 = expand_line('║ . │ . ║ . ║')\n",
        "    line2 = expand_line('╟───┼───╫───╢')\n",
        "    line3 = expand_line('╠═══╪═══╬═══╣')\n",
        "    line4 = expand_line('╚═══╧═══╩═══╝')\n",
        "\n",
        "    symbol = ' ' + string.printable.replace(' ', '')\n",
        "    nums = [[''] + [symbol[n] for n in row] for row in board]\n",
        "    print(line0)\n",
        "    for r in range(1, side + 1):\n",
        "        print(\"\".join(n + s for n, s in zip(nums[r - 1], line1.split('.'))))\n",
        "        print([line2, line3, line4][(r % side == 0) + (r % base == 0)])\n",
        "\n",
        "\n",
        "def generate(base):\n",
        "    # pattern for a baseline valid solution\n",
        "    def pattern(r, c):\n",
        "        return (base * (r % base) + r // base + c) % side\n",
        "\n",
        "    # randomize rows, columns and numbers (of valid base pattern)\n",
        "    from random import sample\n",
        "\n",
        "    def shuffle(s):\n",
        "        return sample(s, len(s))\n",
        "\n",
        "    rBase = range(base)\n",
        "    rows = [g * base + r for g in shuffle(rBase) for r in shuffle(rBase)]\n",
        "    cols = [g * base + c for g in shuffle(rBase) for c in shuffle(rBase)]\n",
        "    nums = shuffle(range(1, base * base + 1))\n",
        "\n",
        "    # produce board using randomized baseline pattern\n",
        "    board = [[nums[pattern(r, c)] for c in cols] for r in rows]\n",
        "\n",
        "    squares = side * side\n",
        "    empties = (squares * 3) // 4\n",
        "    for p in map(int, sample(range(squares), empties)):\n",
        "        board[p // side][p % side] = 0\n",
        "\n",
        "    show(board)\n",
        "    return board\n",
        "\n",
        "\n",
        "base = 4\n",
        "side = base * base\n",
        "\n",
        "puzzle = np.asarray(generate(base))\n",
        "\n",
        "satx.engine(side.bit_length(), cnf_path='tmp.cnf')\n",
        "\n",
        "board = np.asarray(satx.matrix(dimensions=(side, side)))\n",
        "satx.apply_single(board.flatten(), lambda x: 1 <= x <= side)\n",
        "\n",
        "for i in range(side):\n",
        "    for j in range(side):\n",
        "        if puzzle[i][j]:\n",
        "            assert board[i][j] == puzzle[i][j]\n",
        "\n",
        "for c, r in zip(board, board.T):\n",
        "    satx.all_different(c)\n",
        "    satx.all_different(r)\n",
        "\n",
        "for i in range(base):\n",
        "    for j in range(base):\n",
        "        satx.all_different(board[i * base:(i + 1) * base, j * base:(j + 1) * base].flatten())\n",
        "\n",
        "if satx.satisfy('slime'):\n",
        "    show(np.vectorize(int)(board))\n"
      ],
      "execution_count": null,
      "outputs": [
        {
          "name": "stdout",
          "output_type": "stream",
          "text": [
            "╔═══╤═══╤═══╤═══╦═══╤═══╤═══╤═══╦═══╤═══╤═══╤═══╦═══╤═══╤═══╤═══╗\n",
            "║   │   │   │ 4 ║   │   │ 8 │   ║   │   │   │   ║   │ b │ f │   ║\n",
            "╟───┼───┼───┼───╫───┼───┼───┼───╫───┼───┼───┼───╫───┼───┼───┼───╢\n",
            "║   │ 3 │   │   ║   │   │   │   ║ f │   │   │   ║   │   │   │   ║\n",
            "╟───┼───┼───┼───╫───┼───┼───┼───╫───┼───┼───┼───╫───┼───┼───┼───╢\n",
            "║   │   │ 5 │ e ║ 7 │   │   │   ║ 4 │   │   │ 1 ║ 3 │   │ 8 │   ║\n",
            "╟───┼───┼───┼───╫───┼───┼───┼───╫───┼───┼───┼───╫───┼───┼───┼───╢\n",
            "║   │   │   │   ║ 0 │   │   │   ║   │   │   │ 3 ║   │   │ e │   ║\n",
            "╠═══╪═══╪═══╪═══╬═══╪═══╪═══╪═══╬═══╪═══╪═══╪═══╬═══╪═══╪═══╪═══╣\n",
            "║   │   │   │   ║   │   │ 2 │   ║ a │   │   │   ║   │   │   │ 9 ║\n",
            "╟───┼───┼───┼───╫───┼───┼───┼───╫───┼───┼───┼───╫───┼───┼───┼───╢\n",
            "║ 3 │   │   │   ║   │   │   │   ║   │ e │   │   ║   │ f │   │   ║\n",
            "╟───┼───┼───┼───╫───┼───┼───┼───╫───┼───┼───┼───╫───┼───┼───┼───╢\n",
            "║   │   │   │ a ║   │   │   │   ║ 0 │   │   │   ║   │   │   │   ║\n",
            "╟───┼───┼───┼───╫───┼───┼───┼───╫───┼───┼───┼───╫───┼───┼───┼───╢\n",
            "║   │ b │   │   ║ 1 │   │ 0 │ c ║   │   │   │   ║   │   │   │   ║\n",
            "╠═══╪═══╪═══╪═══╬═══╪═══╪═══╪═══╬═══╪═══╪═══╪═══╬═══╪═══╪═══╪═══╣\n",
            "║   │   │ 2 │ 6 ║   │   │   │ e ║ 1 │   │   │   ║   │ 0 │   │   ║\n",
            "╟───┼───┼───┼───╫───┼───┼───┼───╫───┼───┼───┼───╫───┼───┼───┼───╢\n",
            "║   │   │   │ 9 ║   │   │ 1 │ f ║   │   │ d │   ║   │   │   │   ║\n",
            "╟───┼───┼───┼───╫───┼───┼───┼───╫───┼───┼───┼───╫───┼───┼───┼───╢\n",
            "║   │   │   │   ║ d │   │   │   ║   │   │   │ 8 ║   │   │ 9 │   ║\n",
            "╟───┼───┼───┼───╫───┼───┼───┼───╫───┼───┼───┼───╫───┼───┼───┼───╢\n",
            "║   │   │   │   ║ 5 │ 2 │   │ 8 ║   │   │   │   ║   │ 7 │   │   ║\n",
            "╠═══╪═══╪═══╪═══╬═══╪═══╪═══╪═══╬═══╪═══╪═══╪═══╬═══╪═══╪═══╪═══╣\n",
            "║   │   │   │ d ║ 8 │   │   │   ║   │ 6 │ e │ a ║   │   │   │   ║\n",
            "╟───┼───┼───┼───╫───┼───┼───┼───╫───┼───┼───┼───╫───┼───┼───┼───╢\n",
            "║   │   │   │   ║ f │   │   │   ║ d │   │ 4 │   ║   │   │ 5 │ 8 ║\n",
            "╟───┼───┼───┼───╫───┼───┼───┼───╫───┼───┼───┼───╫───┼───┼───┼───╢\n",
            "║   │ 7 │   │   ║   │ 1 │ d │   ║ 5 │ 3 │ 8 │ 2 ║   │   │   │   ║\n",
            "╟───┼───┼───┼───╫───┼───┼───┼───╫───┼───┼───┼───╫───┼───┼───┼───╢\n",
            "║   │   │   │   ║   │   │   │   ║ c │ 9 │   │   ║   │ 1 │   │   ║\n",
            "╚═══╧═══╧═══╧═══╩═══╧═══╧═══╧═══╩═══╧═══╧═══╧═══╩═══╧═══╧═══╧═══╝\n",
            "╔═══╤═══╤═══╤═══╦═══╤═══╤═══╤═══╦═══╤═══╤═══╤═══╦═══╤═══╤═══╤═══╗\n",
            "║ 1 │ 0 │ 6 │ 4 ║ 3 │ d │ 8 │ 2 ║ e │ a │ c │ 9 ║ 5 │ b │ f │ 7 ║\n",
            "╟───┼───┼───┼───╫───┼───┼───┼───╫───┼───┼───┼───╫───┼───┼───┼───╢\n",
            "║ c │ 3 │ b │ 8 ║ 6 │ e │ 4 │ 1 ║ f │ 7 │ 5 │ 0 ║ 9 │ d │ a │ 2 ║\n",
            "╟───┼───┼───┼───╫───┼───┼───┼───╫───┼───┼───┼───╫───┼───┼───┼───╢\n",
            "║ 2 │ 9 │ 5 │ e ║ 7 │ f │ a │ b ║ 4 │ d │ 6 │ 1 ║ 3 │ c │ 8 │ 0 ║\n",
            "╟───┼───┼───┼───╫───┼───┼───┼───╫───┼───┼───┼───╫───┼───┼───┼───╢\n",
            "║ a │ f │ d │ 7 ║ 0 │ 9 │ c │ 5 ║ 2 │ 8 │ b │ 3 ║ 4 │ 6 │ e │ 1 ║\n",
            "╠═══╪═══╪═══╪═══╬═══╪═══╪═══╪═══╬═══╪═══╪═══╪═══╬═══╪═══╪═══╪═══╣\n",
            "║ 7 │ 1 │ c │ f ║ e │ 4 │ 2 │ d ║ a │ b │ 3 │ 5 ║ 6 │ 8 │ 0 │ 9 ║\n",
            "╟───┼───┼───┼───╫───┼───┼───┼───╫───┼───┼───┼───╫───┼───┼───┼───╢\n",
            "║ 3 │ 6 │ 4 │ 0 ║ 9 │ 8 │ 5 │ a ║ 7 │ e │ 1 │ d ║ 2 │ f │ b │ c ║\n",
            "╟───┼───┼───┼───╫───┼───┼───┼───╫───┼───┼───┼───╫───┼───┼───┼───╢\n",
            "║ d │ 2 │ 8 │ a ║ b │ 6 │ f │ 3 ║ 0 │ c │ 9 │ 4 ║ 7 │ e │ 1 │ 5 ║\n",
            "╟───┼───┼───┼───╫───┼───┼───┼───╫───┼───┼───┼───╫───┼───┼───┼───╢\n",
            "║ e │ b │ 9 │ 5 ║ 1 │ 7 │ 0 │ c ║ 8 │ 2 │ f │ 6 ║ a │ 4 │ 3 │ d ║\n",
            "╠═══╪═══╪═══╪═══╬═══╪═══╪═══╪═══╬═══╪═══╪═══╪═══╬═══╪═══╪═══╪═══╣\n",
            "║ 8 │ 5 │ 2 │ 6 ║ c │ 3 │ 9 │ e ║ 1 │ 4 │ 7 │ b ║ f │ 0 │ d │ a ║\n",
            "╟───┼───┼───┼───╫───┼───┼───┼───╫───┼───┼───┼───╫───┼───┼───┼───╢\n",
            "║ 0 │ a │ 7 │ 9 ║ 4 │ b │ 1 │ f ║ 6 │ 5 │ d │ c ║ 8 │ 3 │ 2 │ e ║\n",
            "╟───┼───┼───┼───╫───┼───┼───┼───╫───┼───┼───┼───╫───┼───┼───┼───╢\n",
            "║ 4 │ c │ e │ 1 ║ d │ a │ 7 │ 0 ║ 3 │ f │ 2 │ 8 ║ b │ 5 │ 9 │ 6 ║\n",
            "╟───┼───┼───┼───╫───┼───┼───┼───╫───┼───┼───┼───╫───┼───┼───┼───╢\n",
            "║ b │ d │ f │ 3 ║ 5 │ 2 │ 6 │ 8 ║ 9 │ 0 │ a │ e ║ 1 │ 7 │ c │ 4 ║\n",
            "╠═══╪═══╪═══╪═══╬═══╪═══╪═══╪═══╬═══╪═══╪═══╪═══╬═══╪═══╪═══╪═══╣\n",
            "║ 5 │ 4 │ 1 │ d ║ 8 │ c │ 3 │ 9 ║ b │ 6 │ e │ a ║ 0 │ 2 │ 7 │ f ║\n",
            "╟───┼───┼───┼───╫───┼───┼───┼───╫───┼───┼───┼───╫───┼───┼───┼───╢\n",
            "║ 9 │ e │ 3 │ 2 ║ f │ 0 │ b │ 6 ║ d │ 1 │ 4 │ 7 ║ c │ a │ 5 │ 8 ║\n",
            "╟───┼───┼───┼───╫───┼───┼───┼───╫───┼───┼───┼───╫───┼───┼───┼───╢\n",
            "║ f │ 7 │ 0 │ c ║ a │ 1 │ d │ 4 ║ 5 │ 3 │ 8 │ 2 ║ e │ 9 │ 6 │ b ║\n",
            "╟───┼───┼───┼───╫───┼───┼───┼───╫───┼───┼───┼───╫───┼───┼───┼───╢\n",
            "║ 6 │ 8 │ a │ b ║ 2 │ 5 │ e │ 7 ║ c │ 9 │ 0 │ f ║ d │ 1 │ 4 │ 3 ║\n",
            "╚═══╧═══╧═══╧═══╩═══╧═══╧═══╧═══╩═══╧═══╧═══╧═══╩═══╧═══╧═══╧═══╝\n"
          ]
        }
      ]
    },
    {
      "cell_type": "markdown",
      "metadata": {
        "id": "rpW3jjf8edtW"
      },
      "source": [
        "# MAXIMUM CONSTRAINED PARTITITON\n",
        "\n",
        "---\n",
        "\n",
        "\n",
        "\n",
        "---\n",
        "\n",
        "\n",
        "\n",
        "http://www.csc.kth.se/~viggo/wwwcompendium/node152.html"
      ]
    },
    {
      "cell_type": "code",
      "metadata": {
        "colab": {
          "base_uri": "https://localhost:8080/"
        },
        "id": "qyLQYD-je1Jq",
        "outputId": "115ed459-c444-44e3-f61e-06c7ed59c64c"
      },
      "source": [
        "import random\n",
        "\n",
        "import satx\n",
        "\n",
        "bits = 10\n",
        "n = 2 * 100\n",
        "\n",
        "D = [random.randint(1, 2 ** bits) for _ in range(n)]\n",
        "\n",
        "print('D   : {}'.format(D))\n",
        "\n",
        "satx.engine(sum(D).bit_length(), cnf_path='tmp.cnf')\n",
        "\n",
        "bins, sub, com = satx.subsets(D, n // 2, complement=True)\n",
        "\n",
        "assert sum(sub) == sum(com)\n",
        "\n",
        "if satx.satisfy('slime'):\n",
        "    sub = [D[i] for i in range(n) if bins.binary[i]]\n",
        "    com = [D[i] for i in range(n) if not bins.binary[i]]\n",
        "    print(sum(sub), len(sub), sub)\n",
        "    print(sum(com), len(com), com)\n",
        "    print('\\n')\n",
        "else:\n",
        "    print('Infeasible ...')"
      ],
      "execution_count": null,
      "outputs": [
        {
          "name": "stdout",
          "output_type": "stream",
          "text": [
            "D   : [316, 705, 499, 383, 693, 1023, 469, 226, 787, 797, 952, 946, 452, 818, 638, 997, 477, 645, 4, 189, 967, 650, 808, 466, 884, 100, 83, 833, 192, 540, 411, 670, 366, 232, 371, 746, 58, 479, 90, 17, 784, 10, 266, 239, 409, 168, 955, 405, 4, 851, 137, 363, 480, 465, 851, 783, 973, 1, 893, 431, 781, 85, 552, 59, 711, 753, 691, 930, 276, 189, 516, 212, 212, 559, 50, 291, 279, 777, 425, 655, 413, 863, 247, 217, 973, 256, 917, 963, 366, 932, 696, 264, 853, 522, 773, 161, 688, 479, 930, 509, 719, 985, 841, 49, 916, 13, 830, 914, 459, 880, 494, 519, 978, 973, 289, 468, 903, 581, 738, 996, 305, 180, 385, 615, 252, 121, 318, 703, 76, 685, 329, 960, 800, 385, 843, 1017, 394, 344, 801, 97, 695, 385, 672, 376, 889, 312, 1011, 437, 904, 68, 498, 999, 651, 403, 2, 90, 128, 275, 498, 908, 459, 224, 872, 587, 693, 1011, 394, 335, 764, 731, 898, 801, 899, 651, 960, 138, 301, 451, 233, 320, 808, 951, 431, 754, 96, 44, 832, 425, 180, 845, 843, 432, 9, 280, 1003, 633, 779, 136, 161, 1010]\n",
            "53601 100 [499, 469, 797, 452, 818, 477, 645, 808, 466, 100, 192, 540, 670, 58, 479, 90, 784, 266, 239, 409, 137, 363, 465, 783, 973, 1, 893, 431, 711, 753, 691, 516, 212, 50, 279, 777, 425, 655, 863, 217, 256, 932, 696, 264, 522, 773, 688, 930, 841, 459, 880, 973, 289, 468, 581, 305, 180, 252, 121, 703, 76, 685, 329, 960, 385, 843, 1017, 394, 801, 97, 695, 889, 437, 904, 498, 999, 90, 498, 459, 587, 394, 335, 764, 898, 651, 320, 951, 431, 754, 44, 832, 425, 180, 843, 9, 1003, 633, 779, 136, 1010]\n",
            "53601 100 [316, 705, 383, 693, 1023, 226, 787, 952, 946, 638, 997, 4, 189, 967, 650, 884, 83, 833, 411, 366, 232, 371, 746, 17, 10, 168, 955, 405, 4, 851, 480, 851, 781, 85, 552, 59, 930, 276, 189, 212, 559, 291, 413, 247, 973, 917, 963, 366, 853, 161, 479, 509, 719, 985, 49, 916, 13, 830, 914, 494, 519, 978, 903, 738, 996, 385, 615, 318, 800, 344, 385, 672, 376, 312, 1011, 68, 651, 403, 2, 128, 275, 908, 224, 872, 693, 1011, 731, 801, 899, 960, 138, 301, 451, 233, 808, 96, 845, 432, 280, 161]\n",
            "\n",
            "\n"
          ]
        }
      ]
    },
    {
      "cell_type": "markdown",
      "metadata": {
        "id": "1qFj_5FpCOBt"
      },
      "source": [
        "# PARALLEL OPTIMIZATION - MIN-MAX SUM SUBSET CARDINALITY"
      ]
    },
    {
      "cell_type": "markdown",
      "metadata": {
        "id": "6YJtctLJwDqo"
      },
      "source": [
        "# GRIEWANK FUNCTION\n",
        "\n",
        "Ref: https://www.sfu.ca/~ssurjano/griewank.html"
      ]
    },
    {
      "cell_type": "code",
      "metadata": {
        "colab": {
          "base_uri": "https://localhost:8080/"
        },
        "id": "cmVv0aqxTm1M",
        "outputId": "13ca6f29-d383-4234-cf15-bc953b2c0a0a"
      },
      "source": [
        "import numpy\n",
        "import satx\n",
        "\n",
        "\n",
        "class GriewankFunctionHESS:\n",
        "\n",
        "    def __init__(self, a, b):\n",
        "        self.a = a\n",
        "        self.b = b\n",
        "\n",
        "    def oracle(self, xs):\n",
        "        return numpy.sum([(x ** 2) / 4000 for x in xs]) - numpy.prod([numpy.cos(x / numpy.sqrt(i + 1)) for i, x in enumerate(xs)]) + 1\n",
        "\n",
        "    def f(self, i, j, xs):\n",
        "        xs[i], xs[j] = self.a + xs[i] / self.b, self.a + xs[j] / self.b\n",
        "        xs[i:j] = xs[i:j][::-1]\n",
        "\n",
        "    def g(self, i, j, xs):\n",
        "        xs[i:j] = xs[i:j][::-1]\n",
        "        xs[i], xs[j] = self.b * xs[i] - self.a, self.b * xs[j] - self.a\n",
        "\n",
        "    def log(self, top, opt):\n",
        "        print(top)\n",
        "\n",
        "    def run(self, n):\n",
        "        xs = numpy.random.randint(-600, 600, size=n)\n",
        "        return satx.hess_abstract(xs, self.oracle, self.f, self.g, self.log, target=0)\n",
        "\n",
        "\n",
        "n = 100\n",
        "gf = GriewankFunctionHESS(n ** -2, n ** 2)\n",
        "print(gf.run(n))"
      ],
      "execution_count": null,
      "outputs": [
        {
          "name": "stdout",
          "output_type": "stream",
          "text": [
            "3088.4747500000003\n",
            "3087.3857500000004\n",
            "3077.6835\n",
            "3060.6532500000003\n",
            "3054.333\n",
            "2976.492\n",
            "2964.392\n",
            "2932.5297499999997\n",
            "2919.4195\n",
            "2919.3835\n",
            "2916.19125\n",
            "2828.279\n",
            "2780.53675\n",
            "2751.97575\n",
            "2691.95075\n",
            "2681.95075\n",
            "2657.3017500000005\n",
            "2647.1007500000005\n",
            "2637.7885000000006\n",
            "2572.7635\n",
            "2545.2075000000004\n",
            "2541.2385000000004\n",
            "2502.23225\n",
            "2468.56\n",
            "2397.53775\n",
            "2378.9055\n",
            "2378.8804999999998\n",
            "2364.4804999999997\n",
            "2283.2555\n",
            "2272.4395\n",
            "2244.7172499999997\n",
            "2165.75625\n",
            "2154.8360000000002\n",
            "2152.67375\n",
            "2152.66975\n",
            "2145.44475\n",
            "2144.48375\n",
            "2097.1775000000002\n",
            "2034.42725\n",
            "1996.985\n",
            "1963.4959999999999\n",
            "1949.21575\n",
            "1945.5554999999997\n",
            "1873.7314999999996\n",
            "1865.5412499999998\n",
            "1827.9052499999998\n",
            "1795.5052499999997\n",
            "1706.4029999999998\n",
            "1636.9707499999997\n",
            "1582.2147499999999\n",
            "1553.65375\n",
            "1552.5314999999998\n",
            "1532.5092499999998\n",
            "1491.3002499999998\n",
            "1464.894\n",
            "1377.5737499999998\n",
            "1377.5647499999998\n",
            "1340.7007499999997\n",
            "1334.4597500000004\n",
            "1302.4187499999987\n",
            "1255.3297499999978\n",
            "1247.0487500000047\n",
            "1193.6877499999462\n",
            "1189.9055000000567\n",
            "1174.7765000000916\n",
            "1168.535500000111\n",
            "1087.025250000139\n",
            "1083.304249999773\n",
            "1071.0939999976843\n",
            "989.2979999968411\n",
            "984.6740000034793\n",
            "930.849999988032\n",
            "882.8889999778996\n",
            "793.1887499745726\n",
            "790.8847497156758\n",
            "785.2597539208598\n",
            "770.7394943144469\n",
            "737.7972558847836\n",
            "704.6732440777828\n",
            "622.0169486974594\n",
            "605.1170627914935\n",
            "544.3546268678552\n",
            "525.5852105317438\n",
            "492.2805240056006\n",
            "470.0801614335909\n",
            "457.87449923340614\n",
            "375.5220052708611\n",
            "367.7780934487073\n",
            "340.83589137919364\n",
            "332.82563729411777\n",
            "288.30385454133136\n",
            "230.7032469519171\n",
            "230.40985859001447\n",
            "163.76472168345086\n",
            "158.84067450930593\n",
            "145.59093756158404\n",
            "136.2936785242717\n",
            "74.04965339932156\n",
            "0.0\n",
            "[0 0 0 0 0 0 0 0 0 0 0 0 0 0 0 0 0 0 0 0 0 0 0 0 0 0 0 0 0 0 0 0 0 0 0 0 0\n",
            " 0 0 0 0 0 0 0 0 0 0 0 0 0 0 0 0 0 0 0 0 0 0 0 0 0 0 0 0 0 0 0 0 0 0 0 0 0\n",
            " 0 0 0 0 0 0 0 0 0 0 0 0 0 0 0 0 0 0 0 0 0 0 0 0 0 0]\n"
          ]
        }
      ]
    }
  ]
}