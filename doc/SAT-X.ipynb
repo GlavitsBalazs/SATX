{
 "cells": [
  {
   "cell_type": "markdown",
   "id": "ea5ea55a",
   "metadata": {},
   "source": [
    "# SAT-X"
   ]
  },
  {
   "cell_type": "markdown",
   "id": "2d13b340",
   "metadata": {},
   "source": [
    "SAT-X is a language for constrained optimization and decision problems over positive integers, that work with any SAT Competition standard SAT solver. Is based on Python, and is ase to learn and easy to use with all technologies asociated to this language."
   ]
  },
  {
   "cell_type": "markdown",
   "id": "a59ce049",
   "metadata": {},
   "source": [
    "## Getting Started"
   ]
  },
  {
   "cell_type": "markdown",
   "id": "67539426",
   "metadata": {},
   "source": [
    "Let's write some simple models."
   ]
  },
  {
   "cell_type": "code",
   "execution_count": 11,
   "id": "3bac3f5f",
   "metadata": {},
   "outputs": [
    {
     "name": "stdout",
     "output_type": "stream",
     "text": [
      "3 3 True\n",
      "2 2 True\n",
      "3 2 True\n",
      "2 3 True\n",
      "1 2 True\n",
      "1 3 True\n",
      "2 1 True\n",
      "3 1 True\n"
     ]
    }
   ],
   "source": [
    "import satx\n",
    "\n",
    "satx.engine(bits=10, cnf_path='tmp.cnf')\n",
    "\n",
    "x = satx.integer()\n",
    "y = satx.integer()\n",
    "\n",
    "assert 0 < x <= 3 \n",
    "assert 0 < y <= 3\n",
    "\n",
    "assert x + y > 2\n",
    "\n",
    "while satx.satisfy(solver='kissat'):\n",
    "    print(x, y, x + y > 2)"
   ]
  },
  {
   "cell_type": "markdown",
   "id": "6b2b8b50",
   "metadata": {},
   "source": [
    "Note that output is arbitrary, you can present the result as you want."
   ]
  },
  {
   "cell_type": "markdown",
   "id": "61004147",
   "metadata": {},
   "source": [
    "## A SAT-X Tutorial"
   ]
  },
  {
   "cell_type": "markdown",
   "id": "4539b6c9",
   "metadata": {},
   "source": [
    "### Our First Problem"
   ]
  },
  {
   "cell_type": "markdown",
   "id": "ad85806b",
   "metadata": {},
   "source": [
    "#### A simple nonlinear equation"
   ]
  },
  {
   "cell_type": "code",
   "execution_count": 2,
   "id": "4ef228c1",
   "metadata": {},
   "outputs": [
    {
     "name": "stdout",
     "output_type": "stream",
     "text": [
      "0 10\n",
      "10 0\n",
      "6 8\n",
      "8 6\n"
     ]
    }
   ],
   "source": [
    "# install satx \"pip install satx\" and import satx library\n",
    "\n",
    "import satx\n",
    "\n",
    "# initialize the engine with apropiate bits length and declare the temporal cnf file.\n",
    "\n",
    "satx.engine(bits=10, cnf_path='tmp.cnf')\n",
    "\n",
    "# declare the variables\n",
    "\n",
    "x = satx.integer()\n",
    "y = satx.integer()\n",
    "\n",
    "# make some assetios about data\n",
    "\n",
    "assert x ** 2 + y ** 2 == 100\n",
    "\n",
    "# call you faborite solver and solve it.\n",
    "\n",
    "while satx.satisfy('kissat'):\n",
    "    print(x, y)"
   ]
  },
  {
   "cell_type": "markdown",
   "id": "040fa632",
   "metadata": {},
   "source": [
    "#### The Sum subset Problem\n",
    "\n",
    "This problem consist of answer, given a collection of integers if exist a subset such that this sum is equal to a predefined target."
   ]
  },
  {
   "cell_type": "code",
   "execution_count": 3,
   "id": "a163326c",
   "metadata": {},
   "outputs": [
    {
     "name": "stdout",
     "output_type": "stream",
     "text": [
      "UNIVERSE         : [867, 819, 199, 100, 585, 16, 486, 235, 590, 403]\n",
      "TARGET           : 2727\n",
      "--------------------------------------------------------------------------------\n",
      "ID  | BINARY     : 341 [True, False, True, False, True, False, True, False, True, False]\n",
      "SUM | SUBSET     : 2727 [867, 0, 199, 0, 585, 0, 486, 0, 590, 0]\n",
      "SUM | COMPLEMENT : 1573 [0, 819, 0, 100, 0, 16, 0, 235, 0, 403]\n",
      "--------------------------------------------------------------------------------\n",
      "ID  | BINARY     : 726 [False, True, True, False, True, False, True, True, False, True]\n",
      "SUM | SUBSET     : 2727 [0, 819, 199, 0, 585, 0, 486, 235, 0, 403]\n",
      "SUM | COMPLEMENT : 1573 [867, 0, 0, 100, 0, 16, 0, 0, 590, 0]\n",
      "--------------------------------------------------------------------------------\n"
     ]
    }
   ],
   "source": [
    "import satx\n",
    "import random\n",
    "\n",
    "# declare data\n",
    "\n",
    "bits = 10\n",
    "size = 10\n",
    "\n",
    "universe = [random.randint(1, 2 ** bits) for _ in range(size)]\n",
    "target = sum(random.sample(universe, k=size // 2))\n",
    "\n",
    "print('UNIVERSE         : {}'.format(universe))\n",
    "print('TARGET           : {}'.format(target))\n",
    "print(80 * '-')\n",
    "\n",
    "# initialize the engine\n",
    "\n",
    "satx.engine(target.bit_length(), cnf_path='tmp.cnf')\n",
    "\n",
    "# get binary idx (int) for subsets, the subset itself and the complement (ilustrative not necesary in this example)\n",
    "\n",
    "idx, subset, complement = satx.subsets(universe, complement=True)\n",
    "\n",
    "# make assertions, in this case, that the subset sum the same of the target\n",
    "\n",
    "assert sum(subset) == target\n",
    "\n",
    "# call you faborite solver and solve it.\n",
    "\n",
    "while satx.satisfy('kissat'):\n",
    "    print('ID  | BINARY     : {} {}'.format(idx, idx.binary))\n",
    "    print('SUM | SUBSET     : {} {}'.format(sum(subset), subset))\n",
    "    print('SUM | COMPLEMENT : {} {}'.format(sum(complement), complement))\n",
    "    print(80 * '-')"
   ]
  },
  {
   "cell_type": "markdown",
   "id": "ce7099c7",
   "metadata": {},
   "source": [
    "# Factoring Problem (tensor implementation, different solvers)"
   ]
  },
  {
   "cell_type": "code",
   "execution_count": 4,
   "id": "1557d07b",
   "metadata": {},
   "outputs": [
    {
     "name": "stdout",
     "output_type": "stream",
     "text": [
      "1951709 506783\n",
      "CPU times: user 209 ms, sys: 13.2 ms, total: 222 ms\n",
      "Wall time: 6.64 s\n"
     ]
    }
   ],
   "source": [
    "%%time \n",
    "\n",
    "import satx\n",
    "\n",
    "rsa = 989092942147\n",
    "\n",
    "satx.engine(rsa.bit_length(), cnf_path='tmp.cnf')\n",
    "\n",
    "p = satx.tensor(dimensions=(satx.bits()))\n",
    "q = satx.tensor(dimensions=(satx.bits()))\n",
    "\n",
    "assert p * q == rsa\n",
    "assert p[[0]](0, 1) == 1\n",
    "assert q[[0]](0, 1) == 1\n",
    "assert sum(p[[i]](0, 1) for i in range(satx.bits() // 2 + 1, satx.bits())) == 0\n",
    "assert sum(q[[i]](0, 1) for i in range(satx.bits() // 2, satx.bits())) == 0\n",
    "\n",
    "if satx.satisfy(solver='kissat'):\n",
    "    print(p, q)\n",
    "else:\n",
    "    print('Is Prime!')"
   ]
  },
  {
   "cell_type": "code",
   "execution_count": 5,
   "id": "9b7317c4",
   "metadata": {},
   "outputs": [
    {
     "name": "stdout",
     "output_type": "stream",
     "text": [
      "1951709 506783\n",
      "CPU times: user 200 ms, sys: 12.2 ms, total: 212 ms\n",
      "Wall time: 11.6 s\n"
     ]
    }
   ],
   "source": [
    "%%time \n",
    "\n",
    "import satx\n",
    "\n",
    "rsa = 989092942147\n",
    "\n",
    "satx.engine(rsa.bit_length(), cnf_path='tmp.cnf')\n",
    "\n",
    "p = satx.tensor(dimensions=(satx.bits()))\n",
    "q = satx.tensor(dimensions=(satx.bits()))\n",
    "\n",
    "assert p * q == rsa\n",
    "assert p[[0]](0, 1) == 1\n",
    "assert q[[0]](0, 1) == 1\n",
    "assert sum(p[[i]](0, 1) for i in range(satx.bits() // 2 + 1, satx.bits())) == 0\n",
    "assert sum(q[[i]](0, 1) for i in range(satx.bits() // 2, satx.bits())) == 0\n",
    "\n",
    "if satx.satisfy(solver='slime'):\n",
    "    print(p, q)\n",
    "else:\n",
    "    print('Is Prime!')"
   ]
  },
  {
   "cell_type": "code",
   "execution_count": 6,
   "id": "19b75713",
   "metadata": {},
   "outputs": [
    {
     "name": "stdout",
     "output_type": "stream",
     "text": [
      "1951709 506783\n",
      "CPU times: user 200 ms, sys: 11.3 ms, total: 211 ms\n",
      "Wall time: 15.5 s\n"
     ]
    }
   ],
   "source": [
    "%%time \n",
    "\n",
    "import satx\n",
    "\n",
    "rsa = 989092942147\n",
    "\n",
    "satx.engine(rsa.bit_length(), cnf_path='tmp.cnf')\n",
    "\n",
    "p = satx.tensor(dimensions=(satx.bits()))\n",
    "q = satx.tensor(dimensions=(satx.bits()))\n",
    "\n",
    "assert p * q == rsa\n",
    "assert p[[0]](0, 1) == 1\n",
    "assert q[[0]](0, 1) == 1\n",
    "assert sum(p[[i]](0, 1) for i in range(satx.bits() // 2 + 1, satx.bits())) == 0\n",
    "assert sum(q[[i]](0, 1) for i in range(satx.bits() // 2, satx.bits())) == 0\n",
    "\n",
    "if satx.satisfy(solver='minisat'):\n",
    "    print(p, q)\n",
    "else:\n",
    "    print('Is Prime!')"
   ]
  },
  {
   "cell_type": "markdown",
   "id": "5770f05a",
   "metadata": {},
   "source": [
    "# PERMUTATION RECONSTRUCTION FROM DIFFERENCES\n",
    "\n",
    "(kissat, minisat, slime)\n",
    "\n",
    "https://arxiv.org/pdf/1410.6396.pdf"
   ]
  },
  {
   "cell_type": "code",
   "execution_count": 7,
   "id": "9d5b5fbb",
   "metadata": {},
   "outputs": [
    {
     "data": {
      "image/png": "[encoded data removed]",
      "text/plain": [
       "<Figure size 432x288 with 1 Axes>"
      ]
     },
     "metadata": {
      "needs_background": "light"
     },
     "output_type": "display_data"
    }
   ],
   "source": [
    "import time\n",
    "import satx\n",
    "import numpy as np\n",
    "import matplotlib.pyplot as plt\n",
    "\n",
    "def gen_instance(n):\n",
    "    import random\n",
    "    y = list(range(1, n + 1))\n",
    "    random.shuffle(y)\n",
    "    return [abs(y[i + 1] - y[i]) for i in range(n - 1)]\n",
    "\n",
    "start = time.time()\n",
    "\n",
    "times = []\n",
    "sizes = []\n",
    "\n",
    "for n in range(1, 30):\n",
    "    diffs = gen_instance(n)\n",
    "    \n",
    "    ini = time.time()\n",
    "    \n",
    "    satx.engine(n.bit_length() + 1, cnf_path='tmp.cnf')\n",
    "    \n",
    "    x = satx.vector(size=n)\n",
    "    \n",
    "    satx.all_different(x)\n",
    "    \n",
    "    satx.apply_single(x, lambda a: 1 <= a <= n)\n",
    "    \n",
    "    for i in range(n - 1):\n",
    "        assert satx.index(i, diffs) == satx.one_of([x[i + 1] - x[i], x[i] - x[i + 1]])\n",
    "    \n",
    "    if satx.satisfy('kissat'):\n",
    "        end = time.time() - ini\n",
    "        xx = [abs(x[i + 1] - x[i]) for i in range(n - 1)]\n",
    "        if xx == diffs:\n",
    "            sizes.append(n)\n",
    "            times.append(end)\n",
    "        else:\n",
    "            raise Exception('Error!')\n",
    "    else:\n",
    "        raise Exception('Error!')\n",
    "    \n",
    "end = time.time() - start\n",
    "plt.title('TIME {}(s)'.format(end))\n",
    "plt.plot(sizes, times, 'k-')\n",
    "plt.plot(sizes, times, 'r.')\n",
    "plt.show()\n",
    "plt.close()"
   ]
  },
  {
   "cell_type": "code",
   "execution_count": 8,
   "id": "799752b6",
   "metadata": {
    "scrolled": true
   },
   "outputs": [
    {
     "data": {
      "image/png": "[encoded data removed]",
      "text/plain": [
       "<Figure size 432x288 with 1 Axes>"
      ]
     },
     "metadata": {
      "needs_background": "light"
     },
     "output_type": "display_data"
    }
   ],
   "source": [
    "import time\n",
    "import satx\n",
    "import numpy as np\n",
    "import matplotlib.pyplot as plt\n",
    "\n",
    "def gen_instance(n):\n",
    "    import random\n",
    "    y = list(range(1, n + 1))\n",
    "    random.shuffle(y)\n",
    "    return [abs(y[i + 1] - y[i]) for i in range(n - 1)]\n",
    "\n",
    "start = time.time()\n",
    "\n",
    "times = []\n",
    "sizes = []\n",
    "\n",
    "for n in range(1, 30):\n",
    "    diffs = gen_instance(n)\n",
    "    \n",
    "    ini = time.time()\n",
    "    \n",
    "    satx.engine(n.bit_length() + 1, cnf_path='tmp.cnf')\n",
    "    \n",
    "    x = satx.vector(size=n)\n",
    "    \n",
    "    satx.all_different(x)\n",
    "    \n",
    "    satx.apply_single(x, lambda a: 1 <= a <= n)\n",
    "    \n",
    "    for i in range(n - 1):\n",
    "        assert satx.index(i, diffs) == satx.one_of([x[i + 1] - x[i], x[i] - x[i + 1]])\n",
    "    \n",
    "    if satx.satisfy('minisat'):\n",
    "        end = time.time() - ini\n",
    "        xx = [abs(x[i + 1] - x[i]) for i in range(n - 1)]\n",
    "        if xx == diffs:\n",
    "            sizes.append(n)\n",
    "            times.append(end)\n",
    "        else:\n",
    "            raise Exception('Error!')\n",
    "    else:\n",
    "        raise Exception('Error!')\n",
    "    \n",
    "end = time.time() - start\n",
    "plt.title('TIME {}(s)'.format(end))\n",
    "plt.plot(sizes, times, 'k-')\n",
    "plt.plot(sizes, times, 'r.')\n",
    "plt.show()\n",
    "plt.close()"
   ]
  },
  {
   "cell_type": "code",
   "execution_count": 9,
   "id": "d4a7e4f0",
   "metadata": {},
   "outputs": [
    {
     "data": {
      "image/png": "[encoded data removed]",
      "text/plain": [
       "<Figure size 432x288 with 1 Axes>"
      ]
     },
     "metadata": {
      "needs_background": "light"
     },
     "output_type": "display_data"
    }
   ],
   "source": [
    "import time\n",
    "import satx\n",
    "import numpy as np\n",
    "import matplotlib.pyplot as plt\n",
    "\n",
    "def gen_instance(n):\n",
    "    import random\n",
    "    y = list(range(1, n + 1))\n",
    "    random.shuffle(y)\n",
    "    return [abs(y[i + 1] - y[i]) for i in range(n - 1)]\n",
    "\n",
    "start = time.time()\n",
    "\n",
    "times = []\n",
    "sizes = []\n",
    "\n",
    "for n in range(1, 30):\n",
    "    diffs = gen_instance(n)\n",
    "    \n",
    "    ini = time.time()\n",
    "    \n",
    "    satx.engine(n.bit_length() + 1, cnf_path='tmp.cnf')\n",
    "    \n",
    "    x = satx.vector(size=n)\n",
    "    \n",
    "    satx.all_different(x)\n",
    "    \n",
    "    satx.apply_single(x, lambda a: 1 <= a <= n)\n",
    "    \n",
    "    for i in range(n - 1):\n",
    "        assert satx.index(i, diffs) == satx.one_of([x[i + 1] - x[i], x[i] - x[i + 1]])\n",
    "    \n",
    "    if satx.satisfy('slime'):\n",
    "        end = time.time() - ini\n",
    "        xx = [abs(x[i + 1] - x[i]) for i in range(n - 1)]\n",
    "        if xx == diffs:\n",
    "            sizes.append(n)\n",
    "            times.append(end)\n",
    "        else:\n",
    "            raise Exception('Error!')\n",
    "    else:\n",
    "        raise Exception('Error!')\n",
    "    \n",
    "end = time.time() - start\n",
    "plt.title('TIME {}(s)'.format(end))\n",
    "plt.plot(sizes, times, 'k-')\n",
    "plt.plot(sizes, times, 'r.')\n",
    "plt.show()\n",
    "plt.close()"
   ]
  },
  {
   "cell_type": "markdown",
   "id": "7ba5bef6",
   "metadata": {},
   "source": [
    "# BIN PACKING PROBLEM\n",
    "\n",
    "In the bin packing problem, items of different volumes must be packed into a finite number of bins or containers each of a fixed given volume in a way that minimizes the number of bins used. In computational complexity theory, it is a combinatorial NP-hard problem. The decision problem (deciding if items will fit into a specified number of bins) is NP-complete.\n",
    "\n",
    "https://en.wikipedia.org/wiki/Bin_packing_problem"
   ]
  },
  {
   "cell_type": "code",
   "execution_count": 10,
   "id": "c9fc4a81",
   "metadata": {},
   "outputs": [
    {
     "name": "stdout",
     "output_type": "stream",
     "text": [
      "100\n",
      "[48, 47, 47, 45, 45, 45, 44, 43, 43, 43, 42, 42, 42, 41, 40, 39, 39, 38, 37, 37, 37, 36, 36, 35, 34, 33, 33, 33, 32, 32, 32, 32, 31, 31, 31, 30, 30, 29, 29, 28, 28, 27, 27, 26, 26, 25, 25, 25, 25, 25, 24, 24, 23, 23, 23, 23, 22, 22, 21, 21, 20, 19, 17, 17, 16, 15, 15, 15, 15, 14, 14, 13, 13, 12, 11, 10, 9, 9, 8, 8, 8, 7, 7, 7, 7, 7, 6, 5, 4, 4, 3, 3, 2, 2, 2, 2, 2, 2, 2, 1]\n",
      "Solution for 24 bins...\n",
      "________#________________________________________##___________________________________#_____________\n",
      "_________#_________________#______________________________________#__________#______________________\n",
      "__________#______#__________________________________________#_______________________________________\n",
      "_______#_______________#_________________________________#__________________________________________\n",
      "________________#__________________#__#_____________________________________________________________\n",
      "___________#___________________________#____________________________________________________________\n",
      "___#_________________________________________#_#_____________________________________________#______\n",
      "____#____________________________________________________________#__##_____________________________#\n",
      "__________________________#__________#____#____________________________________#____________________\n",
      "________________________________#__________#__________________#______________________#___#__________\n",
      "____________#________________#_________________________________#___________________#________________\n",
      "______#_____________#________________________________________#______________________________________\n",
      "__________________##___________________________________________________#________#__________#______#_\n",
      "##_____________________________________________________________________________________#____________\n",
      "__________________________________#_____________________#__#____#___________________#_________#_____\n",
      "_________________________#__________________#_#_________________________#______________________#____\n",
      "_________________________________________#_________#______#_________________#____##_____#___________\n",
      "_____#________________________#________________________#____________________________________________\n",
      "_________________________________#__________________###_____________________________________________\n",
      "_____________________##_________________________#_________________________________________#_________\n",
      "_____________#_________________#______________________________________#__#__________________________\n",
      "__#_____________________#__________________________________________#____________________________##__\n",
      "_______________#____________________#_____________________________________##__#_____________#_______\n",
      "______________#_____________#___________#___________________________________________________________\n",
      "98 [43, 25, 24, 6]\n",
      "100 [43, 33, 15, 9]\n",
      "100 [42, 38, 20]\n",
      "100 [43, 35, 22]\n",
      "98 [39, 30, 29]\n",
      "70 [42, 28]\n",
      "97 [45, 25, 25, 2]\n",
      "90 [45, 15, 15, 14, 1]\n",
      "97 [33, 29, 27, 8]\n",
      "85 [31, 26, 17, 7, 4]\n",
      "98 [42, 32, 17, 7]\n",
      "100 [44, 37, 19]\n",
      "100 [37, 37, 13, 8, 3, 2]\n",
      "100 [48, 47, 5]\n",
      "99 [31, 22, 21, 16, 7, 2]\n",
      "99 [33, 26, 25, 13, 2]\n",
      "99 [27, 24, 21, 9, 7, 7, 4]\n",
      "100 [45, 32, 23]\n",
      "100 [31, 23, 23, 23]\n",
      "100 [36, 36, 25, 3]\n",
      "99 [41, 32, 14, 12]\n",
      "100 [47, 34, 15, 2, 2]\n",
      "100 [39, 30, 11, 10, 8, 2]\n",
      "100 [40, 32, 28]\n",
      "CPU times: user 24.1 s, sys: 549 ms, total: 24.6 s\n",
      "Wall time: 53.6 s\n"
     ]
    }
   ],
   "source": [
    "%%time \n",
    "\n",
    "import satx\n",
    "import numpy as np\n",
    "\n",
    "capacity = 100\n",
    "size = 100\n",
    "elements = sorted([np.random.randint(1, capacity // 2 - 1) for _ in range(size)], reverse=True)\n",
    "\n",
    "print(capacity)\n",
    "print(elements)\n",
    "\n",
    "bins = int(np.ceil(sum(elements) / capacity))\n",
    "\n",
    "while True:\n",
    "    satx.engine(bits=capacity.bit_length() + 1, cnf_path='tmp.cnf')\n",
    "    \n",
    "    slots = satx.vector(bits=len(elements), size=bins)\n",
    "    \n",
    "    for i in range(len(elements)):\n",
    "        assert sum(satx.switch(slot, i) for slot in slots) == 1\n",
    "        \n",
    "    for slot in slots:\n",
    "        assert sum(satx.switch(slot, i) * elements[i] for i in range(len(elements))) <= capacity\n",
    "        \n",
    "    if satx.satisfy('kissat'):\n",
    "        print('Solution for {} bins...'.format(bins))\n",
    "        for slot in slots:\n",
    "            print(''.join(['_' if boolean else '#' for boolean in slot.binary]))\n",
    "        for slot in slots:\n",
    "            sub = [item for i, item in enumerate(elements) if not slot.binary[i]]\n",
    "            print(sum(sub), sub)    \n",
    "        break\n",
    "    else:\n",
    "        print('No solution for {} bins...'.format(bins))\n",
    "        bins += 1"
   ]
  },
  {
   "cell_type": "code",
   "execution_count": null,
   "id": "a5df9aed",
   "metadata": {},
   "outputs": [],
   "source": []
  }
 ],
 "metadata": {
  "kernelspec": {
   "display_name": "Python 3",
   "language": "python",
   "name": "python3"
  },
  "language_info": {
   "codemirror_mode": {
    "name": "ipython",
    "version": 3
   },
   "file_extension": ".py",
   "mimetype": "text/x-python",
   "name": "python",
   "nbconvert_exporter": "python",
   "pygments_lexer": "ipython3",
   "version": "3.9.5"
  }
 },
 "nbformat": 4,
 "nbformat_minor": 5
}
