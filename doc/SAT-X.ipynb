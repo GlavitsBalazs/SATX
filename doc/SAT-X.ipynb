{
 "cells": [
  {
   "cell_type": "markdown",
   "id": "ea5ea55a",
   "metadata": {},
   "source": [
    "# SAT-X"
   ]
  },
  {
   "cell_type": "markdown",
   "id": "2d13b340",
   "metadata": {},
   "source": [
    "SAT-X is a language for constrained optimization and decision problems over positive integers, that work with any SAT Competition standard SAT solver. Is based on Python, and is ase to learn and easy to use with all technologies asociated to this language."
   ]
  },
  {
   "cell_type": "markdown",
   "id": "a59ce049",
   "metadata": {},
   "source": [
    "## Getting Started"
   ]
  },
  {
   "cell_type": "markdown",
   "id": "67539426",
   "metadata": {},
   "source": [
    "Let's write some simple models."
   ]
  },
  {
   "cell_type": "code",
   "execution_count": 64,
   "id": "3bac3f5f",
   "metadata": {},
   "outputs": [
    {
     "name": "stdout",
     "output_type": "stream",
     "text": [
      "3 3 True\n",
      "2 2 True\n",
      "3 2 True\n",
      "2 3 True\n",
      "1 2 True\n",
      "1 3 True\n",
      "2 1 True\n",
      "3 1 True\n"
     ]
    }
   ],
   "source": [
    "import satx\n",
    "\n",
    "satx.engine(bits=10, cnf_path='tmp.cnf')\n",
    "\n",
    "x = satx.integer()\n",
    "y = satx.integer()\n",
    "\n",
    "assert 0 < x <= 3 \n",
    "assert 0 < y <= 3\n",
    "\n",
    "assert x + y > 2\n",
    "\n",
    "while satx.satisfy(solver='kissat'):\n",
    "    print(x, y, x + y > 2)\n",
    "\n",
    "satx.reset()"
   ]
  },
  {
   "cell_type": "markdown",
   "id": "6b2b8b50",
   "metadata": {},
   "source": [
    "Note that output is arbitrary, you can present the result as you want."
   ]
  },
  {
   "cell_type": "markdown",
   "id": "61004147",
   "metadata": {},
   "source": [
    "## A SAT-X Tutorial"
   ]
  },
  {
   "cell_type": "markdown",
   "id": "4539b6c9",
   "metadata": {},
   "source": [
    "### Our First Problem"
   ]
  },
  {
   "cell_type": "markdown",
   "id": "ad85806b",
   "metadata": {},
   "source": [
    "#### A simple nonlinear equation"
   ]
  },
  {
   "cell_type": "code",
   "execution_count": 65,
   "id": "4ef228c1",
   "metadata": {},
   "outputs": [
    {
     "name": "stdout",
     "output_type": "stream",
     "text": [
      "0 10\n",
      "10 0\n",
      "6 8\n",
      "8 6\n"
     ]
    }
   ],
   "source": [
    "# install satx \"pip install satx\" and import satx library\n",
    "\n",
    "import satx\n",
    "\n",
    "# initialize the engine with apropiate bits length and declare the temporal cnf file.\n",
    "\n",
    "satx.engine(bits=10, cnf_path='tmp.cnf')\n",
    "\n",
    "# declare the variables\n",
    "\n",
    "x = satx.integer()\n",
    "y = satx.integer()\n",
    "\n",
    "# make some assetios about data\n",
    "\n",
    "assert x ** 2 + y ** 2 == 100\n",
    "\n",
    "# call you faborite solver and solve it.\n",
    "\n",
    "while satx.satisfy('kissat'):\n",
    "    print(x, y)\n",
    "    \n",
    "# reset the engine\n",
    "    \n",
    "satx.reset()"
   ]
  },
  {
   "cell_type": "markdown",
   "id": "040fa632",
   "metadata": {},
   "source": [
    "#### The Sum subset Problem\n",
    "\n",
    "This problem consist of answer, given a collection of integers if exist a subset such that this sum is equal to a predefined target."
   ]
  },
  {
   "cell_type": "code",
   "execution_count": 66,
   "id": "a163326c",
   "metadata": {},
   "outputs": [
    {
     "name": "stdout",
     "output_type": "stream",
     "text": [
      "UNIVERSE         : [883, 887, 172, 17, 885, 903, 578, 272, 87, 688]\n",
      "TARGET           : 2044\n",
      "--------------------------------------------------------------------------------\n",
      "ID  | BINARY     : 285 [True, False, True, True, True, False, False, False, True, False]\n",
      "SUM | SUBSET     : 2044 [883, 0, 172, 17, 885, 0, 0, 0, 87, 0]\n",
      "SUM | COMPLEMENT : 3328 [0, 887, 0, 0, 0, 903, 578, 272, 0, 688]\n",
      "--------------------------------------------------------------------------------\n",
      "ID  | BINARY     : 146 [False, True, False, False, True, False, False, True, False, False]\n",
      "SUM | SUBSET     : 2044 [0, 887, 0, 0, 885, 0, 0, 272, 0, 0]\n",
      "SUM | COMPLEMENT : 3328 [883, 0, 172, 17, 0, 903, 578, 0, 87, 688]\n",
      "--------------------------------------------------------------------------------\n"
     ]
    }
   ],
   "source": [
    "import satx\n",
    "import random\n",
    "\n",
    "# declare data\n",
    "\n",
    "bits = 10\n",
    "size = 10\n",
    "\n",
    "universe = [random.randint(1, 2 ** bits) for _ in range(size)]\n",
    "target = sum(random.sample(universe, k=size // 2))\n",
    "\n",
    "print('UNIVERSE         : {}'.format(universe))\n",
    "print('TARGET           : {}'.format(target))\n",
    "print(80 * '-')\n",
    "\n",
    "# initialize the engine\n",
    "\n",
    "satx.engine(target.bit_length(), cnf_path='tmp.cnf')\n",
    "\n",
    "# get binary idx (int) for subsets, the subset itself and the complement (ilustrative not necesary in this example)\n",
    "\n",
    "idx, subset, complement = satx.subsets(universe, complement=True)\n",
    "\n",
    "# make assertions, in this case, that the subset sum the same of the target\n",
    "\n",
    "assert sum(subset) == target\n",
    "\n",
    "# call you faborite solver and solve it.\n",
    "\n",
    "while satx.satisfy('kissat'):\n",
    "    print('ID  | BINARY     : {} {}'.format(idx, idx.binary))\n",
    "    print('SUM | SUBSET     : {} {}'.format(sum(subset), subset))\n",
    "    print('SUM | COMPLEMENT : {} {}'.format(sum(complement), complement))\n",
    "    print(80 * '-')\n",
    "\n",
    "# reset the engine    \n",
    "    \n",
    "satx.reset()"
   ]
  },
  {
   "cell_type": "markdown",
   "id": "ce7099c7",
   "metadata": {},
   "source": [
    "# WIP"
   ]
  },
  {
   "cell_type": "code",
   "execution_count": null,
   "id": "1557d07b",
   "metadata": {},
   "outputs": [],
   "source": []
  }
 ],
 "metadata": {
  "kernelspec": {
   "display_name": "Python 3",
   "language": "python",
   "name": "python3"
  },
  "language_info": {
   "codemirror_mode": {
    "name": "ipython",
    "version": 3
   },
   "file_extension": ".py",
   "mimetype": "text/x-python",
   "name": "python",
   "nbconvert_exporter": "python",
   "pygments_lexer": "ipython3",
   "version": "3.9.5"
  }
 },
 "nbformat": 4,
 "nbformat_minor": 5
}
