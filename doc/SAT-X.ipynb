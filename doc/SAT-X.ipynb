{
 "cells": [
  {
   "cell_type": "markdown",
   "id": "ea5ea55a",
   "metadata": {},
   "source": [
    "# SAT-X"
   ]
  },
  {
   "cell_type": "markdown",
   "id": "2d13b340",
   "metadata": {},
   "source": [
    "SAT-X is a language for constrained optimization and decision problems over positive integers, that work with any SAT Competition standard SAT solver. Is based on Python, and is ase to learn and easy to use with all technologies asociated to this language."
   ]
  },
  {
   "cell_type": "markdown",
   "id": "a59ce049",
   "metadata": {},
   "source": [
    "## Getting Started"
   ]
  },
  {
   "cell_type": "markdown",
   "id": "67539426",
   "metadata": {},
   "source": [
    "Let's write some simple models."
   ]
  },
  {
   "cell_type": "code",
   "execution_count": 64,
   "id": "3bac3f5f",
   "metadata": {},
   "outputs": [
    {
     "name": "stdout",
     "output_type": "stream",
     "text": [
      "3 3 True\n",
      "2 2 True\n",
      "3 2 True\n",
      "2 3 True\n",
      "1 2 True\n",
      "1 3 True\n",
      "2 1 True\n",
      "3 1 True\n"
     ]
    }
   ],
   "source": [
    "import satx\n",
    "\n",
    "satx.engine(bits=10, cnf_path='tmp.cnf')\n",
    "\n",
    "x = satx.integer()\n",
    "y = satx.integer()\n",
    "\n",
    "assert 0 < x <= 3 \n",
    "assert 0 < y <= 3\n",
    "\n",
    "assert x + y > 2\n",
    "\n",
    "while satx.satisfy(solver='kissat'):\n",
    "    print(x, y, x + y > 2)\n",
    "\n",
    "satx.reset()"
   ]
  },
  {
   "cell_type": "markdown",
   "id": "6b2b8b50",
   "metadata": {},
   "source": [
    "Note that output is arbitrary, you can present the result as you want."
   ]
  },
  {
   "cell_type": "markdown",
   "id": "61004147",
   "metadata": {},
   "source": [
    "## A SAT-X Tutorial"
   ]
  },
  {
   "cell_type": "markdown",
   "id": "4539b6c9",
   "metadata": {},
   "source": [
    "### Our First Problem"
   ]
  },
  {
   "cell_type": "markdown",
   "id": "ad85806b",
   "metadata": {},
   "source": [
    "#### A simple nonlinear equation"
   ]
  },
  {
   "cell_type": "code",
   "execution_count": 65,
   "id": "4ef228c1",
   "metadata": {},
   "outputs": [
    {
     "name": "stdout",
     "output_type": "stream",
     "text": [
      "0 10\n",
      "10 0\n",
      "6 8\n",
      "8 6\n"
     ]
    }
   ],
   "source": [
    "# install satx \"pip install satx\" and import satx library\n",
    "\n",
    "import satx\n",
    "\n",
    "# initialize the engine with apropiate bits length and declare the temporal cnf file.\n",
    "\n",
    "satx.engine(bits=10, cnf_path='tmp.cnf')\n",
    "\n",
    "# declare the variables\n",
    "\n",
    "x = satx.integer()\n",
    "y = satx.integer()\n",
    "\n",
    "# make some assetios about data\n",
    "\n",
    "assert x ** 2 + y ** 2 == 100\n",
    "\n",
    "# call you faborite solver and solve it.\n",
    "\n",
    "while satx.satisfy('kissat'):\n",
    "    print(x, y)\n",
    "    \n",
    "# reset the engine\n",
    "    \n",
    "satx.reset()"
   ]
  },
  {
   "cell_type": "markdown",
   "id": "040fa632",
   "metadata": {},
   "source": [
    "#### The Sum subset Problem\n",
    "\n",
    "This problem consist of answer, given a collection of integers if exist a subset such that this sum is equal to a predefined target."
   ]
  },
  {
   "cell_type": "code",
   "execution_count": 66,
   "id": "a163326c",
   "metadata": {},
   "outputs": [
    {
     "name": "stdout",
     "output_type": "stream",
     "text": [
      "UNIVERSE         : [883, 887, 172, 17, 885, 903, 578, 272, 87, 688]\n",
      "TARGET           : 2044\n",
      "--------------------------------------------------------------------------------\n",
      "ID  | BINARY     : 285 [True, False, True, True, True, False, False, False, True, False]\n",
      "SUM | SUBSET     : 2044 [883, 0, 172, 17, 885, 0, 0, 0, 87, 0]\n",
      "SUM | COMPLEMENT : 3328 [0, 887, 0, 0, 0, 903, 578, 272, 0, 688]\n",
      "--------------------------------------------------------------------------------\n",
      "ID  | BINARY     : 146 [False, True, False, False, True, False, False, True, False, False]\n",
      "SUM | SUBSET     : 2044 [0, 887, 0, 0, 885, 0, 0, 272, 0, 0]\n",
      "SUM | COMPLEMENT : 3328 [883, 0, 172, 17, 0, 903, 578, 0, 87, 688]\n",
      "--------------------------------------------------------------------------------\n"
     ]
    }
   ],
   "source": [
    "import satx\n",
    "import random\n",
    "\n",
    "# declare data\n",
    "\n",
    "bits = 10\n",
    "size = 10\n",
    "\n",
    "universe = [random.randint(1, 2 ** bits) for _ in range(size)]\n",
    "target = sum(random.sample(universe, k=size // 2))\n",
    "\n",
    "print('UNIVERSE         : {}'.format(universe))\n",
    "print('TARGET           : {}'.format(target))\n",
    "print(80 * '-')\n",
    "\n",
    "# initialize the engine\n",
    "\n",
    "satx.engine(target.bit_length(), cnf_path='tmp.cnf')\n",
    "\n",
    "# get binary idx (int) for subsets, the subset itself and the complement (ilustrative not necesary in this example)\n",
    "\n",
    "idx, subset, complement = satx.subsets(universe, complement=True)\n",
    "\n",
    "# make assertions, in this case, that the subset sum the same of the target\n",
    "\n",
    "assert sum(subset) == target\n",
    "\n",
    "# call you faborite solver and solve it.\n",
    "\n",
    "while satx.satisfy('kissat'):\n",
    "    print('ID  | BINARY     : {} {}'.format(idx, idx.binary))\n",
    "    print('SUM | SUBSET     : {} {}'.format(sum(subset), subset))\n",
    "    print('SUM | COMPLEMENT : {} {}'.format(sum(complement), complement))\n",
    "    print(80 * '-')\n",
    "\n",
    "# reset the engine    \n",
    "    \n",
    "satx.reset()"
   ]
  },
  {
   "cell_type": "markdown",
   "id": "ce7099c7",
   "metadata": {},
   "source": [
    "# Factoring Problem (tensor implementation, different solvers)"
   ]
  },
  {
   "cell_type": "code",
   "execution_count": 1,
   "id": "1557d07b",
   "metadata": {},
   "outputs": [
    {
     "name": "stdout",
     "output_type": "stream",
     "text": [
      "1951709 506783\n",
      "CPU times: user 217 ms, sys: 15.2 ms, total: 232 ms\n",
      "Wall time: 8.05 s\n"
     ]
    }
   ],
   "source": [
    "%%time \n",
    "\n",
    "import satx\n",
    "\n",
    "rsa = 989092942147\n",
    "\n",
    "satx.engine(rsa.bit_length(), cnf_path='tmp.cnf')\n",
    "\n",
    "p = satx.tensor(dimensions=(satx.bits()))\n",
    "q = satx.tensor(dimensions=(satx.bits()))\n",
    "\n",
    "assert p * q == rsa\n",
    "assert p[[0]](0, 1) == 1\n",
    "assert q[[0]](0, 1) == 1\n",
    "assert sum(p[[i]](0, 1) for i in range(satx.bits() // 2 + 1, satx.bits())) == 0\n",
    "assert sum(q[[i]](0, 1) for i in range(satx.bits() // 2, satx.bits())) == 0\n",
    "\n",
    "if satx.satisfy(solver='kissat'):\n",
    "    print(p, q)\n",
    "else:\n",
    "    print('Is Prime!')\n",
    "    \n",
    "satx.reset()"
   ]
  },
  {
   "cell_type": "code",
   "execution_count": 2,
   "id": "4d76188e",
   "metadata": {},
   "outputs": [
    {
     "name": "stdout",
     "output_type": "stream",
     "text": [
      "1951709 506783\n",
      "CPU times: user 215 ms, sys: 13.2 ms, total: 229 ms\n",
      "Wall time: 13.8 s\n"
     ]
    }
   ],
   "source": [
    "%%time \n",
    "\n",
    "import satx\n",
    "\n",
    "rsa = 989092942147\n",
    "\n",
    "satx.engine(rsa.bit_length(), cnf_path='tmp.cnf')\n",
    "\n",
    "p = satx.tensor(dimensions=(satx.bits()))\n",
    "q = satx.tensor(dimensions=(satx.bits()))\n",
    "\n",
    "assert p * q == rsa\n",
    "assert p[[0]](0, 1) == 1\n",
    "assert q[[0]](0, 1) == 1\n",
    "assert sum(p[[i]](0, 1) for i in range(satx.bits() // 2 + 1, satx.bits())) == 0\n",
    "assert sum(q[[i]](0, 1) for i in range(satx.bits() // 2, satx.bits())) == 0\n",
    "\n",
    "if satx.satisfy(solver='slime'):\n",
    "    print(p, q)\n",
    "else:\n",
    "    print('Is Prime!')\n",
    "    \n",
    "satx.reset()"
   ]
  },
  {
   "cell_type": "code",
   "execution_count": 3,
   "id": "37879b74",
   "metadata": {},
   "outputs": [
    {
     "name": "stdout",
     "output_type": "stream",
     "text": [
      "1951709 506783\n",
      "CPU times: user 221 ms, sys: 13.5 ms, total: 235 ms\n",
      "Wall time: 17.6 s\n"
     ]
    }
   ],
   "source": [
    "%%time \n",
    "\n",
    "import satx\n",
    "\n",
    "rsa = 989092942147\n",
    "\n",
    "satx.engine(rsa.bit_length(), cnf_path='tmp.cnf')\n",
    "\n",
    "p = satx.tensor(dimensions=(satx.bits()))\n",
    "q = satx.tensor(dimensions=(satx.bits()))\n",
    "\n",
    "assert p * q == rsa\n",
    "assert p[[0]](0, 1) == 1\n",
    "assert q[[0]](0, 1) == 1\n",
    "assert sum(p[[i]](0, 1) for i in range(satx.bits() // 2 + 1, satx.bits())) == 0\n",
    "assert sum(q[[i]](0, 1) for i in range(satx.bits() // 2, satx.bits())) == 0\n",
    "\n",
    "if satx.satisfy(solver='minisat'):\n",
    "    print(p, q)\n",
    "else:\n",
    "    print('Is Prime!')\n",
    "    \n",
    "satx.reset()"
   ]
  },
  {
   "cell_type": "markdown",
   "id": "ce7bbfa2",
   "metadata": {},
   "source": [
    "# PERMUTATION RECONSTRUCTION FROM DIFFERENCES\n",
    "\n",
    "(kissat, minisat, slime)\n",
    "\n",
    "https://arxiv.org/pdf/1410.6396.pdf"
   ]
  },
  {
   "cell_type": "code",
   "execution_count": 5,
   "id": "0899d6e3",
   "metadata": {},
   "outputs": [
    {
     "data": {
      "image/png": "[encoded data removed]",
      "text/plain": [
       "<Figure size 432x288 with 1 Axes>"
      ]
     },
     "metadata": {
      "needs_background": "light"
     },
     "output_type": "display_data"
    }
   ],
   "source": [
    "import time\n",
    "import satx\n",
    "import numpy as np\n",
    "import matplotlib.pyplot as plt\n",
    "\n",
    "def gen_instance(n):\n",
    "    import random\n",
    "    y = list(range(1, n + 1))\n",
    "    random.shuffle(y)\n",
    "    return [abs(y[i + 1] - y[i]) for i in range(n - 1)]\n",
    "\n",
    "start = time.time()\n",
    "\n",
    "times = []\n",
    "sizes = []\n",
    "\n",
    "for n in range(1, 30):\n",
    "    diffs = gen_instance(n)\n",
    "    \n",
    "    ini = time.time()\n",
    "    \n",
    "    satx.engine(n.bit_length() + 1, cnf_path='tmp.cnf')\n",
    "    \n",
    "    x = satx.vector(size=n)\n",
    "    \n",
    "    satx.all_different(x)\n",
    "    \n",
    "    satx.apply_single(x, lambda a: 1 <= a <= n)\n",
    "    \n",
    "    for i in range(n - 1):\n",
    "        assert satx.index(i, diffs) == satx.one_of([x[i + 1] - x[i], x[i] - x[i + 1]])\n",
    "    \n",
    "    if satx.satisfy('kissat'):\n",
    "        end = time.time() - ini\n",
    "        xx = [abs(x[i + 1] - x[i]) for i in range(n - 1)]\n",
    "        if xx == diffs:\n",
    "            sizes.append(n)\n",
    "            times.append(end)\n",
    "        else:\n",
    "            raise Exception('Error!')\n",
    "    else:\n",
    "        raise Exception('Error!')\n",
    "    \n",
    "    satx.reset()\n",
    "    \n",
    "end = time.time() - start\n",
    "plt.title('TIME {}(s)'.format(end))\n",
    "plt.plot(sizes, times, 'k-')\n",
    "plt.plot(sizes, times, 'r.')\n",
    "plt.show()\n",
    "plt.close()"
   ]
  },
  {
   "cell_type": "code",
   "execution_count": 6,
   "id": "aacb63c0",
   "metadata": {
    "scrolled": true
   },
   "outputs": [
    {
     "data": {
      "image/png": "[encoded data removed]",
      "text/plain": [
       "<Figure size 432x288 with 1 Axes>"
      ]
     },
     "metadata": {
      "needs_background": "light"
     },
     "output_type": "display_data"
    }
   ],
   "source": [
    "import time\n",
    "import satx\n",
    "import numpy as np\n",
    "import matplotlib.pyplot as plt\n",
    "\n",
    "def gen_instance(n):\n",
    "    import random\n",
    "    y = list(range(1, n + 1))\n",
    "    random.shuffle(y)\n",
    "    return [abs(y[i + 1] - y[i]) for i in range(n - 1)]\n",
    "\n",
    "start = time.time()\n",
    "\n",
    "times = []\n",
    "sizes = []\n",
    "\n",
    "for n in range(1, 30):\n",
    "    diffs = gen_instance(n)\n",
    "    \n",
    "    ini = time.time()\n",
    "    \n",
    "    satx.engine(n.bit_length() + 1, cnf_path='tmp.cnf')\n",
    "    \n",
    "    x = satx.vector(size=n)\n",
    "    \n",
    "    satx.all_different(x)\n",
    "    \n",
    "    satx.apply_single(x, lambda a: 1 <= a <= n)\n",
    "    \n",
    "    for i in range(n - 1):\n",
    "        assert satx.index(i, diffs) == satx.one_of([x[i + 1] - x[i], x[i] - x[i + 1]])\n",
    "    \n",
    "    if satx.satisfy('minisat'):\n",
    "        end = time.time() - ini\n",
    "        xx = [abs(x[i + 1] - x[i]) for i in range(n - 1)]\n",
    "        if xx == diffs:\n",
    "            sizes.append(n)\n",
    "            times.append(end)\n",
    "        else:\n",
    "            raise Exception('Error!')\n",
    "    else:\n",
    "        raise Exception('Error!')\n",
    "    \n",
    "    satx.reset()\n",
    "    \n",
    "end = time.time() - start\n",
    "plt.title('TIME {}(s)'.format(end))\n",
    "plt.plot(sizes, times, 'k-')\n",
    "plt.plot(sizes, times, 'r.')\n",
    "plt.show()\n",
    "plt.close()"
   ]
  },
  {
   "cell_type": "code",
   "execution_count": 7,
   "id": "6909297a",
   "metadata": {},
   "outputs": [
    {
     "data": {
      "image/png": "[encoded data removed]",
      "text/plain": [
       "<Figure size 432x288 with 1 Axes>"
      ]
     },
     "metadata": {
      "needs_background": "light"
     },
     "output_type": "display_data"
    }
   ],
   "source": [
    "import time\n",
    "import satx\n",
    "import numpy as np\n",
    "import matplotlib.pyplot as plt\n",
    "\n",
    "def gen_instance(n):\n",
    "    import random\n",
    "    y = list(range(1, n + 1))\n",
    "    random.shuffle(y)\n",
    "    return [abs(y[i + 1] - y[i]) for i in range(n - 1)]\n",
    "\n",
    "start = time.time()\n",
    "\n",
    "times = []\n",
    "sizes = []\n",
    "\n",
    "for n in range(1, 30):\n",
    "    diffs = gen_instance(n)\n",
    "    \n",
    "    ini = time.time()\n",
    "    \n",
    "    satx.engine(n.bit_length() + 1, cnf_path='tmp.cnf')\n",
    "    \n",
    "    x = satx.vector(size=n)\n",
    "    \n",
    "    satx.all_different(x)\n",
    "    \n",
    "    satx.apply_single(x, lambda a: 1 <= a <= n)\n",
    "    \n",
    "    for i in range(n - 1):\n",
    "        assert satx.index(i, diffs) == satx.one_of([x[i + 1] - x[i], x[i] - x[i + 1]])\n",
    "    \n",
    "    if satx.satisfy('slime'):\n",
    "        end = time.time() - ini\n",
    "        xx = [abs(x[i + 1] - x[i]) for i in range(n - 1)]\n",
    "        if xx == diffs:\n",
    "            sizes.append(n)\n",
    "            times.append(end)\n",
    "        else:\n",
    "            raise Exception('Error!')\n",
    "    else:\n",
    "        raise Exception('Error!')\n",
    "    \n",
    "    satx.reset()\n",
    "    \n",
    "end = time.time() - start\n",
    "plt.title('TIME {}(s)'.format(end))\n",
    "plt.plot(sizes, times, 'k-')\n",
    "plt.plot(sizes, times, 'r.')\n",
    "plt.show()\n",
    "plt.close()"
   ]
  },
  {
   "cell_type": "markdown",
   "id": "025a7a16",
   "metadata": {},
   "source": [
    "# BIN PACKING PROBLEM\n",
    "\n",
    "In the bin packing problem, items of different volumes must be packed into a finite number of bins or containers each of a fixed given volume in a way that minimizes the number of bins used. In computational complexity theory, it is a combinatorial NP-hard problem. The decision problem (deciding if items will fit into a specified number of bins) is NP-complete.\n",
    "\n",
    "https://en.wikipedia.org/wiki/Bin_packing_problem"
   ]
  },
  {
   "cell_type": "code",
   "execution_count": 9,
   "id": "eb59c465",
   "metadata": {},
   "outputs": [
    {
     "name": "stdout",
     "output_type": "stream",
     "text": [
      "50\n",
      "[23, 23, 23, 22, 22, 22, 22, 22, 21, 21, 21, 21, 20, 20, 20, 19, 19, 19, 17, 17, 17, 16, 15, 15, 15, 14, 14, 13, 11, 11, 9, 9, 9, 8, 8, 7, 6, 5, 5, 5, 4, 4, 4, 3, 2, 2, 2, 1, 1, 1]\n",
      "Solution for 13 bins...\n",
      "_#____________________#______________#_#_______#_#\n",
      "___________#___#______________#_________________#_\n",
      "_____________#__#___________#_____________________\n",
      "__________________#_#____________##_______________\n",
      "_______#_#________________________________##______\n",
      "______________#________##_________________________\n",
      "__#_#_________________________________#___________\n",
      "____________#______#_________#_______________#____\n",
      "#________________#______________________##________\n",
      "______#_#__________________________#______________\n",
      "___#_#______________________________#_____________\n",
      "_________________________###____#_________________\n",
      "__________#__________#_________#____________#_#___\n",
      "50 [23, 15, 5, 5, 1, 1]\n",
      "50 [21, 19, 9, 1]\n",
      "50 [20, 19, 11]\n",
      "50 [17, 17, 8, 8]\n",
      "50 [22, 21, 4, 3]\n",
      "50 [20, 15, 15]\n",
      "50 [23, 22, 5]\n",
      "50 [20, 17, 11, 2]\n",
      "50 [23, 19, 4, 4]\n",
      "50 [22, 21, 7]\n",
      "50 [22, 22, 6]\n",
      "50 [14, 14, 13, 9]\n",
      "50 [21, 16, 9, 2, 2]\n"
     ]
    }
   ],
   "source": [
    "import satx\n",
    "import numpy as np\n",
    "\n",
    "capacity = 50\n",
    "size = 50\n",
    "elements = sorted([np.random.randint(1, capacity // 2 - 1) for _ in range(size)], reverse=True)\n",
    "\n",
    "print(capacity)\n",
    "print(elements)\n",
    "\n",
    "bins = int(np.ceil(sum(elements) / capacity))\n",
    "\n",
    "while True:\n",
    "    satx.engine(bits=capacity.bit_length() + 1, cnf_path='tmp.cnf')\n",
    "    \n",
    "    slots = satx.vector(bits=len(elements), size=bins)\n",
    "    \n",
    "    for i in range(len(elements)):\n",
    "        assert sum(satx.switch(slot, i) for slot in slots) == 1\n",
    "        \n",
    "    for slot in slots:\n",
    "        assert sum(satx.switch(slot, i) * elements[i] for i in range(len(elements))) <= capacity\n",
    "        \n",
    "    if satx.satisfy('minisat'):\n",
    "        print('Solution for {} bins...'.format(bins))\n",
    "        for slot in slots:\n",
    "            print(''.join(['_' if boolean else '#' for boolean in slot.binary]))\n",
    "        for slot in slots:\n",
    "            sub = [item for i, item in enumerate(elements) if not slot.binary[i]]\n",
    "            print(sum(sub), sub)\n",
    "        break\n",
    "    else:\n",
    "        print('No solution for {} bins...'.format(bins))\n",
    "        bins += 1\n",
    "    \n",
    "    satx.reset()"
   ]
  },
  {
   "cell_type": "code",
   "execution_count": null,
   "id": "3e999a5a",
   "metadata": {},
   "outputs": [],
   "source": []
  }
 ],
 "metadata": {
  "kernelspec": {
   "display_name": "Python 3",
   "language": "python",
   "name": "python3"
  },
  "language_info": {
   "codemirror_mode": {
    "name": "ipython",
    "version": 3
   },
   "file_extension": ".py",
   "mimetype": "text/x-python",
   "name": "python",
   "nbconvert_exporter": "python",
   "pygments_lexer": "ipython3",
   "version": "3.9.5"
  }
 },
 "nbformat": 4,
 "nbformat_minor": 5
}
